{
 "cells": [
  {
   "cell_type": "code",
   "execution_count": null,
   "metadata": {},
   "outputs": [],
   "source": [
    "### *** MODULE 2 PART 6 *** ###\n",
    "# *** LIST PROPERTIES *** #\n",
    "\n",
    "# Tuples should be used for heterogenous (different) data types and lists for homogenous data types"
   ]
  },
  {
   "cell_type": "code",
   "execution_count": null,
   "metadata": {},
   "outputs": [],
   "source": []
  },
  {
   "cell_type": "code",
   "execution_count": null,
   "metadata": {},
   "outputs": [],
   "source": []
  },
  {
   "cell_type": "code",
   "execution_count": 1,
   "metadata": {},
   "outputs": [],
   "source": [
    "# empy list\n",
    "my_list = []\n",
    "\n",
    "# list of integers\n",
    "my_list = [1,2,3]\n",
    "\n",
    "# list with mixed datatypes\n",
    "my_list = [1,\"Hello\",3.4]\n",
    "\n",
    "# nested list\n",
    "my_list = [\"mouse\", [8,4,6], ['a']]\n"
   ]
  },
  {
   "cell_type": "code",
   "execution_count": 2,
   "metadata": {},
   "outputs": [
    {
     "data": {
      "text/plain": [
       "['a', 'b', 'c']"
      ]
     },
     "execution_count": 2,
     "metadata": {},
     "output_type": "execute_result"
    }
   ],
   "source": [
    "list(\"abc\")"
   ]
  },
  {
   "cell_type": "code",
   "execution_count": 3,
   "metadata": {},
   "outputs": [
    {
     "data": {
      "text/plain": [
       "[1, 2, 3]"
      ]
     },
     "execution_count": 3,
     "metadata": {},
     "output_type": "execute_result"
    }
   ],
   "source": [
    "list ((1,2,3))"
   ]
  },
  {
   "cell_type": "code",
   "execution_count": 4,
   "metadata": {},
   "outputs": [
    {
     "data": {
      "text/plain": [
       "[1, 3, 5, 7, 9]"
      ]
     },
     "execution_count": 4,
     "metadata": {},
     "output_type": "execute_result"
    }
   ],
   "source": [
    "list([1,3,5,7,9])"
   ]
  },
  {
   "cell_type": "code",
   "execution_count": 5,
   "metadata": {},
   "outputs": [
    {
     "name": "stdout",
     "output_type": "stream",
     "text": [
      "0\n",
      "0\n"
     ]
    }
   ],
   "source": [
    "empty_list = []\n",
    "another_empty_list = list()\n",
    "\n",
    "print(len(empty_list))\n",
    "\n",
    "print(len(another_empty_list))"
   ]
  },
  {
   "cell_type": "code",
   "execution_count": 6,
   "metadata": {},
   "outputs": [
    {
     "data": {
      "text/plain": [
       "['h', 'o', 'u', 's', 'e']"
      ]
     },
     "execution_count": 6,
     "metadata": {},
     "output_type": "execute_result"
    }
   ],
   "source": [
    "#Convert a string of one word to a list of characters\n",
    "\n",
    "list(\"house\")"
   ]
  },
  {
   "cell_type": "code",
   "execution_count": 7,
   "metadata": {},
   "outputs": [
    {
     "data": {
      "text/plain": [
       "['T', 'h', 'i', 's', ' ', 'w', 'o', 'r', 'd']"
      ]
     },
     "execution_count": 7,
     "metadata": {},
     "output_type": "execute_result"
    }
   ],
   "source": [
    "#Convert a string of words in to a list of characters\n",
    "list(\"This word\")\n"
   ]
  },
  {
   "cell_type": "code",
   "execution_count": 8,
   "metadata": {},
   "outputs": [
    {
     "data": {
      "text/plain": [
       "['ready', 'fire', 'aim']"
      ]
     },
     "execution_count": 8,
     "metadata": {},
     "output_type": "execute_result"
    }
   ],
   "source": [
    "#COnvert a tuple to a list\n",
    "\n",
    "aTuple = ('ready','fire','aim')\n",
    "\n",
    "list(aTuple)"
   ]
  },
  {
   "cell_type": "code",
   "execution_count": 9,
   "metadata": {},
   "outputs": [
    {
     "name": "stdout",
     "output_type": "stream",
     "text": [
      "['This', 'is', 'a', 'string', 'of', 'words']\n"
     ]
    }
   ],
   "source": [
    "#Convert a STRING of words into a LIST of words: Using split() to chop the string with ' ' as separator\n",
    "\n",
    "aStringOfWords = \"This is a string of words\"\n",
    "\n",
    "aList = aStringOfWords.split(' ')\n",
    "\n",
    "print(aList)\n"
   ]
  },
  {
   "cell_type": "code",
   "execution_count": 10,
   "metadata": {},
   "outputs": [
    {
     "name": "stdout",
     "output_type": "stream",
     "text": [
      "['5', '1', '2017']\n"
     ]
    }
   ],
   "source": [
    "#Convert a string to a list: Using split() to chop the string with some separator\n",
    "\n",
    "aDayString = \"5/1/2017\"\n",
    "\n",
    "aList = aDayString.split('/')\n",
    "\n",
    "print(aList)"
   ]
  },
  {
   "cell_type": "code",
   "execution_count": 12,
   "metadata": {},
   "outputs": [
    {
     "name": "stdout",
     "output_type": "stream",
     "text": [
      "[2, 3]\n",
      "[3, 4]\n",
      "[4, 5]\n"
     ]
    }
   ],
   "source": [
    "### Create Lists by Using List Comprehension and Slicing an Existing List ###\n",
    "\n",
    "l_lists = [[1,2,3],[2,3,4],[3,4,5]]\n",
    "\n",
    "# NOTES: MUST use list slice --> CANNOT use any other fuction to delete/remove\n",
    "new_llists = [element[1:] for element in l_lists]\n",
    "\n",
    "i = 0\n",
    "for element in new_llists:\n",
    "    print(element)\n",
    "    i = i + 1\n",
    "    if i ==3:\n",
    "        break"
   ]
  },
  {
   "cell_type": "code",
   "execution_count": null,
   "metadata": {},
   "outputs": [],
   "source": [
    "### USING INDEXING AND ACCESSING SINLE ELEMENTS IN A LIST ###"
   ]
  },
  {
   "cell_type": "code",
   "execution_count": 4,
   "metadata": {},
   "outputs": [
    {
     "name": "stdout",
     "output_type": "stream",
     "text": [
      "p\n",
      "o\n",
      "e\n",
      "a\n",
      "5\n"
     ]
    }
   ],
   "source": [
    "my_list = ['p','r','o','b','e']\n",
    "\n",
    "# OUTPUT: p\n",
    "print(my_list[0])\n",
    "\n",
    "# OUTPUT: o\n",
    "print(my_list[2])\n",
    "\n",
    "# OUTPUT: e\n",
    "print(my_list[4])\n",
    "\n",
    "# Nested List\n",
    "n_list = [\"Happy\", [2,0,1,5]]\n",
    "\n",
    "# Nested indexing\n",
    "          \n",
    "# OUTPUT: a\n",
    "print(n_list[0][1])\n",
    "          \n",
    "# OUTPUT: 5\n",
    "print(n_list[1][3])"
   ]
  },
  {
   "cell_type": "code",
   "execution_count": 5,
   "metadata": {},
   "outputs": [
    {
     "name": "stdout",
     "output_type": "stream",
     "text": [
      "['ready', 'fire', 'aim']\n",
      "Lenght of the list: 3\n",
      "ready\n",
      "fire\n",
      "aim\n"
     ]
    }
   ],
   "source": [
    "# Access using forward index\n",
    "\n",
    "aTuple = ('ready', 'fire', 'aim')\n",
    "aList = list(aTuple)\n",
    "print(aList)\n",
    "print(\"Lenght of the list:\", len(aList))\n",
    "\n",
    "list_element_1 = aList[0]\n",
    "list_element_2 = aList[1]\n",
    "list_element_3 = aList[2]\n",
    "print(list_element_1)\n",
    "print(list_element_2)\n",
    "print(list_element_3)"
   ]
  },
  {
   "cell_type": "code",
   "execution_count": 6,
   "metadata": {},
   "outputs": [
    {
     "name": "stdout",
     "output_type": "stream",
     "text": [
      "['ready', 'fire', 'aim']\n",
      "Lenght of the list: 3\n",
      "aim\n",
      "fire\n",
      "ready\n"
     ]
    }
   ],
   "source": [
    "# Access using backward index\n",
    "\n",
    "aTuple = ('ready', 'fire', 'aim')\n",
    "aList = list(aTuple)\n",
    "print(aList)\n",
    "print(\"Lenght of the list:\", len(aList))\n",
    "\n",
    "list_element_last = aList[-1]\n",
    "list_element_next_to_last = aList[-2]\n",
    "list_element_first = aList[-3]\n",
    "print(list_element_last)\n",
    "print(list_element_next_to_last)\n",
    "print(list_element_first)"
   ]
  },
  {
   "cell_type": "code",
   "execution_count": 11,
   "metadata": {},
   "outputs": [
    {
     "name": "stdout",
     "output_type": "stream",
     "text": [
      "Python and C are quite different!\n"
     ]
    }
   ],
   "source": [
    "### NOTE DIFFERENCE IN PRINT LANGUAGES ###\n",
    "\n",
    "languages = [\"Python\", \"C\", \"C++\", \"Java\", \"Perl\"]\n",
    "\n",
    "print(languages[0] + \" and \" + languages[1] + \" are quite different!\")"
   ]
  },
  {
   "cell_type": "code",
   "execution_count": 10,
   "metadata": {},
   "outputs": [
    {
     "name": "stdout",
     "output_type": "stream",
     "text": [
      "['Python', 'C', 'C++', 'Java', 'Perl']\n"
     ]
    }
   ],
   "source": [
    "languages = [\"Python\", \"C\", \"C++\", \"Java\", \"Perl\"]\n",
    "\n",
    "print(languages)\n"
   ]
  },
  {
   "cell_type": "code",
   "execution_count": 12,
   "metadata": {},
   "outputs": [
    {
     "name": "stdout",
     "output_type": "stream",
     "text": [
      "['o', 'g', 'r']\n",
      "['p', 'r', 'o', 'g']\n",
      "['a', 'm', 'i', 'z']\n",
      "['p', 'r', 'o', 'g', 'r', 'a', 'm', 'i', 'z']\n",
      "['p', 'r', 'o', 'g', 'r', 'a', 'm', 'i', 'z']\n"
     ]
    }
   ],
   "source": [
    "### ACCESS A SLICE OF A LIST ###\n",
    "\n",
    "# We can access a range of items in a list by using the slicing operator (colon).\n",
    "\n",
    "my_list = ['p','r','o','g','r','a','m','i','z']\n",
    "\n",
    "# elements 3rd to 5th\n",
    "print(my_list[2:5])\n",
    "\n",
    "# elements fisrt to 4th\n",
    "print(my_list[:-5])\n",
    "\n",
    "# elements 6rd to end\n",
    "print(my_list[5:])\n",
    "\n",
    "# elements beginning to end\n",
    "print(my_list[:])\n",
    "\n",
    "print(my_list)\n"
   ]
  },
  {
   "cell_type": "code",
   "execution_count": 14,
   "metadata": {},
   "outputs": [
    {
     "name": "stdout",
     "output_type": "stream",
     "text": [
      "[1, 4, 6, 8]\n",
      "[1, 3, 5, 7]\n"
     ]
    }
   ],
   "source": [
    "### MODIFY LISTS TO CHANGE OR ADD ELEMENTS ###\n",
    "\n",
    "odd = [2,4,6,8]\n",
    "\n",
    "#change the 1st item\n",
    "odd[0] = 1\n",
    "\n",
    "#OUTPUT should be [1,4,6,8]\n",
    "print(odd)\n",
    "\n",
    "#change 2nd to 4th items\n",
    "odd[1:4] = [3,5,7]\n",
    "\n",
    "#OUTPUT should be [1,3,5,7]\n",
    "print(odd)"
   ]
  },
  {
   "cell_type": "code",
   "execution_count": 16,
   "metadata": {},
   "outputs": [
    {
     "name": "stdout",
     "output_type": "stream",
     "text": [
      "[1, 3, 5, 7]\n",
      "[1, 3, 5, 7, 9, 11, 13]\n"
     ]
    }
   ],
   "source": [
    "### ADD OR INSERT SINGLE ITEMS TO THE END OF A LIST ###\n",
    "\n",
    "# We can add one item to a list using append() method\n",
    "# or add several items using extend()\n",
    "\n",
    "odd = [1,3,5]\n",
    "\n",
    "odd.append(7)\n",
    "\n",
    "#OUTPUT should be [1,3,5,7]\n",
    "print(odd)\n",
    "\n",
    "odd.extend([9,11,13])\n",
    "\n",
    "#OUTPUT SHOULD NOW BE [1,3,5,7,9,11,13]\n",
    "print(odd)\n"
   ]
  },
  {
   "cell_type": "code",
   "execution_count": 23,
   "metadata": {},
   "outputs": [
    {
     "name": "stdout",
     "output_type": "stream",
     "text": [
      "[1, 3, 9]\n",
      "[1, 3, 5, 7, 9]\n"
     ]
    }
   ],
   "source": [
    "### INSERT SIGNLE ELEMENTS OR SUB LISTS IN THE MIDDLE OF AN EXISTING LIST ###\n",
    "\n",
    "\n",
    "# We can insert one item at a desired location by using the method .insert()\n",
    "odd = [1,9]\n",
    "odd.insert(1,3)\n",
    "\n",
    "#OUTPUT inserts the 3 one character into the list\n",
    "print(odd)\n",
    "\n",
    "# We can insert mutliple items by squeezing it in to a empty slice of a list.\n",
    "odd[2:2] = [5,7]\n",
    "\n",
    "#OUTPUT SHOULD BE [1,3,5,7,9]\n",
    "print(odd)\n"
   ]
  },
  {
   "cell_type": "code",
   "execution_count": 25,
   "metadata": {},
   "outputs": [
    {
     "name": "stdout",
     "output_type": "stream",
     "text": [
      "[1, 3, 9]\n",
      "[1, 3, 5.5, 9]\n"
     ]
    }
   ],
   "source": [
    "### INSERT SIGNLE ELEMENTS OR SUB LISTS IN THE MIDDLE OF AN EXISTING LIST ###\n",
    "### Additional examples ###\n",
    "\n",
    "## We can insert one item at a desired location by using the method .insert()\n",
    "\n",
    "odd = [1,9]\n",
    "odd.insert(1,3)\n",
    "\n",
    "# OUTPUT inserts the 3 one character into the list from the left\n",
    "print(odd)\n",
    "\n",
    "# OUTPUT inserts the 5.5 two character into the list from the left\n",
    "odd.insert(2,5.5)\n",
    "print(odd)\n",
    "\n"
   ]
  },
  {
   "cell_type": "code",
   "execution_count": 28,
   "metadata": {},
   "outputs": [
    {
     "name": "stdout",
     "output_type": "stream",
     "text": [
      "3rd element has been removed:  ['p', 'r', 'b', 'l', 'e', 'm']\n",
      "Elements from index 1 until 4 have been removed  ['p', 'm']\n"
     ]
    }
   ],
   "source": [
    "### DELETE OR REMOVE ELEMENTS FROM A LIST USING DEL ###\n",
    "\n",
    "# We can delete one or more items from a list using the keyword del.\n",
    "\n",
    "my_list = ['p','r','o','b','l','e','m']\n",
    "\n",
    "# delete one item by specifying to delete after skipping the first two characters in the list\n",
    "# note that del does NOT delete the element numbered in the del statement, but +1 after\n",
    "del my_list[2]\n",
    "\n",
    "# OUTPUT should be:  ['p','r','b','l','e','m']\n",
    "print(\"3rd element has been removed: \", my_list)\n",
    "\n",
    "# delete multiple items\n",
    "del my_list[1:5]\n",
    "\n",
    "# OUTPUT should be ['p','m']\n",
    "print(\"Elements from index 1 until 4 have been removed \", my_list)"
   ]
  },
  {
   "cell_type": "code",
   "execution_count": 35,
   "metadata": {},
   "outputs": [
    {
     "name": "stdout",
     "output_type": "stream",
     "text": [
      "['r', 'o', 'b', 'l', 'e', 'm']\n",
      "o\n",
      "['r', 'b', 'l', 'e', 'm']\n",
      "m\n",
      "['r', 'b', 'l', 'e']\n"
     ]
    }
   ],
   "source": [
    "### DELETE OR REMOVE ELEMENTS FROM A LIST USING .remove() and .pop() ###\n",
    "\n",
    "## .remove() method to remove the given item or pop() method to remove an item that is specified\n",
    "## .pop() method removes and returns the last item if index is not provided.\n",
    "# This helps us implement lists as stacks (first in, last out data structure).\n",
    "# We can also use the clear() method to empty a list completely.\n",
    "\n",
    "my_list = ['p','r','o','b','l','e','m']\n",
    "my_list.remove('p')\n",
    "\n",
    "# OUTPUT should be ['r','o','b','l','e','m']\n",
    "print(my_list)\n",
    "\n",
    "# OUTPUT should be 'o'\n",
    "# here you can see using the .pop() function will remove the element of the list that is the 1st from the start\n",
    "print(my_list.pop(1))\n",
    "\n",
    "\n",
    "# OUTPUT should be ['r','b','l','e','m']\n",
    "print(my_list)\n",
    "\n",
    "# OUTPUT should be 'm'\n",
    "# here the .pop function is used with no paramaters to remove the last item\n",
    "print(my_list.pop())\n",
    "\n",
    "# OUTPUT should be ['r','b','l','e']\n",
    "print(my_list)"
   ]
  },
  {
   "cell_type": "code",
   "execution_count": 39,
   "metadata": {},
   "outputs": [
    {
     "name": "stdout",
     "output_type": "stream",
     "text": [
      "['p', 'r', 'b', 'l', 'e', 'm']\n",
      "['p', 'r', 'm']\n"
     ]
    }
   ],
   "source": [
    "### DELETE OR REMOVE ELEMENTS FROM A LIST BY ASSIGNING AN EMPTY LIST TO A SLICE OF A LIST ###\n",
    "# By setting a specified slice of list to equal a blank list you are basically deleting those elements.\n",
    "\n",
    "my_list = ['p','r','o','b','l','e','m']\n",
    "\n",
    "# Remove 'o'\n",
    "my_list[2:3] = []\n",
    "\n",
    "print(my_list)\n",
    "\n",
    "# Remove 'b' 'l' 'e'\n",
    "my_list[2:5] = []\n",
    "\n",
    "print(my_list)"
   ]
  },
  {
   "cell_type": "code",
   "execution_count": 41,
   "metadata": {},
   "outputs": [
    {
     "name": "stdout",
     "output_type": "stream",
     "text": [
      "['p', 'r', 'o', 'b', 'l', 'e', 'm']\n",
      "[]\n"
     ]
    }
   ],
   "source": [
    "### DELETE/REMOVE ALL ELEMENTS FROM A LIST USING .clear() FUNCTION ###\n",
    "\n",
    "my_list = ['p','r','o','b','l','e','m']\n",
    "print(my_list)\n",
    "\n",
    "\n",
    "my_list.clear()\n",
    "\n",
    "# OUTPUT should be blank : []\n",
    "print(my_list)"
   ]
  },
  {
   "cell_type": "code",
   "execution_count": 50,
   "metadata": {},
   "outputs": [
    {
     "name": "stdout",
     "output_type": "stream",
     "text": [
      "2534721874760\n",
      "2534721874760\n",
      "[1, 2, [3, 5], 4]\n",
      "[1, 2, [3, 5], 4]\n"
     ]
    }
   ],
   "source": [
    "### COPYING LISTS - SHALLOW COPY ###\n",
    "# A shallow copy will only copy the refernce to the object, A NEW OBJECT IS NOT CREATED.\n",
    "# An assignment using = on lists will not copy, it will make two variables point at the same list in memory\n",
    "\n",
    "# initializing list 1\n",
    "list1 = [1,2,[3,5],4]\n",
    "\n",
    "# using shallow copy\n",
    "list2 = list1\n",
    "\n",
    "# the lists referer to the same object and return the same values\n",
    "\n",
    "print(id(list1))\n",
    "print(id(list2))\n",
    "\n",
    "print(list1)\n",
    "print(list2)"
   ]
  },
  {
   "cell_type": "code",
   "execution_count": 51,
   "metadata": {},
   "outputs": [
    {
     "data": {
      "text/plain": [
       "(2534724490312, 2534721140872)"
      ]
     },
     "execution_count": 51,
     "metadata": {},
     "output_type": "execute_result"
    }
   ],
   "source": [
    "### COPYING LISTS - DEEP COPY ###\n",
    "# Deep copies will create a new oject on completion.\n",
    "# .deepcopy() is the function keyword\n",
    "\n",
    "# importing \"copy\" for copy operations\n",
    "import copy\n",
    "\n",
    "# initializing list 1\n",
    "list1 = [1,2,[3,5],4]\n",
    "\n",
    "# using .deepcopy() to copy to new object\n",
    "list2 = copy.deepcopy(list1)\n",
    "\n",
    "# The list refers to different objects, different id values\n",
    "id(list1), id(list2)\n"
   ]
  },
  {
   "cell_type": "code",
   "execution_count": 54,
   "metadata": {
    "scrolled": true
   },
   "outputs": [
    {
     "name": "stdout",
     "output_type": "stream",
     "text": [
      "[1, 2, [3, 5], 4]\n",
      "list1 has been deleted.\n"
     ]
    },
    {
     "ename": "NameError",
     "evalue": "name 'list1' is not defined",
     "output_type": "error",
     "traceback": [
      "\u001b[1;31m---------------------------------------------------------------------------\u001b[0m",
      "\u001b[1;31mNameError\u001b[0m                                 Traceback (most recent call last)",
      "\u001b[1;32m<ipython-input-54-87aab4e58c38>\u001b[0m in \u001b[0;36m<module>\u001b[1;34m()\u001b[0m\n\u001b[0;32m     10\u001b[0m \u001b[0mprint\u001b[0m\u001b[1;33m(\u001b[0m\u001b[1;34m\"list1 has been deleted.\"\u001b[0m\u001b[1;33m)\u001b[0m\u001b[1;33m\u001b[0m\u001b[0m\n\u001b[0;32m     11\u001b[0m \u001b[1;33m\u001b[0m\u001b[0m\n\u001b[1;32m---> 12\u001b[1;33m \u001b[0mprint\u001b[0m\u001b[1;33m(\u001b[0m\u001b[0mlist1\u001b[0m\u001b[1;33m)\u001b[0m\u001b[1;33m\u001b[0m\u001b[0m\n\u001b[0m",
      "\u001b[1;31mNameError\u001b[0m: name 'list1' is not defined"
     ]
    }
   ],
   "source": [
    "### DELETE ENTIRE LIST, NOT JUST ELEMENTS ###\n",
    "# to delete a list use the del() function\n",
    "\n",
    "list1 = [1,2,[3,5],4]\n",
    "\n",
    "print(list1)\n",
    "\n",
    "del(list1)\n",
    "\n",
    "print(\"list1 has been deleted.\")\n",
    "\n",
    "print(list1)"
   ]
  },
  {
   "cell_type": "code",
   "execution_count": null,
   "metadata": {},
   "outputs": [],
   "source": [
    "### OPERATIONS ON LISTS ###\n",
    "# concatenate lists using +\n",
    "# replecate lists using *\n",
    "# test elements using \"in\" and \"not in\"\n",
    "# compare lists using <,>,<=,==, !=\n",
    "   # == is to test if they are the same ojbect\n",
    "   # != is not equals\n",
    "# iterate using for loop FOR x IN xxxx\n",
    "# sort lists using list.sort()"
   ]
  },
  {
   "cell_type": "code",
   "execution_count": 57,
   "metadata": {},
   "outputs": [
    {
     "name": "stdout",
     "output_type": "stream",
     "text": [
      "[1, 2, [3, 5], 4, 'Hello', 'World']\n",
      "[1, 3, 5, 9, 7, 5]\n"
     ]
    }
   ],
   "source": [
    "# Concatenate to print all list values\n",
    "list1 = [1,2,[3,5],4]\n",
    "list2 = [\"Hello\", \"World\"]\n",
    "print(list1 + list2)\n",
    "\n",
    "# Concatenate to 'combine' two lists, this combo is only in the results does not change the actual list object\n",
    "odd =[1,3,5]\n",
    "print(odd + [9,7,5])\n"
   ]
  },
  {
   "cell_type": "code",
   "execution_count": 61,
   "metadata": {},
   "outputs": [
    {
     "name": "stdout",
     "output_type": "stream",
     "text": [
      "[1, 2, 1, 2, 1, 2]\n",
      "['re', 're', 're']\n"
     ]
    }
   ],
   "source": [
    "# Replicate Lists\n",
    "# The * operator repeats a list for a defined # of times.\n",
    "\n",
    "aList = [1,2]\n",
    "print(aList * 3)\n",
    "\n",
    "# Can replicate defined values not only lists\n",
    "# lists will always include the comma spaces\n",
    "# print(\"re\" * 3) would return \"rerere\"\n",
    "print([\"re\"] * 3)"
   ]
  },
  {
   "cell_type": "code",
   "execution_count": 63,
   "metadata": {},
   "outputs": [
    {
     "name": "stdout",
     "output_type": "stream",
     "text": [
      "True\n",
      "False\n"
     ]
    }
   ],
   "source": [
    "# Test List Elements with 'in' and 'not in'\n",
    "#### NEED TO ADD MORE DETAIL ####\n",
    "\n",
    "list1 = [1,2,[3,5],4]\n",
    "print(2 in list1)\n",
    "print([3] in list1)"
   ]
  },
  {
   "cell_type": "code",
   "execution_count": 64,
   "metadata": {},
   "outputs": [
    {
     "name": "stdout",
     "output_type": "stream",
     "text": [
      "False\n"
     ]
    }
   ],
   "source": [
    "#Compare values in lists using <,>,<=,==, !=\n",
    "\n",
    "list1 = [1,2,[3,5],4]\n",
    "list2 = [1,2,4]\n",
    "print(list1 == list2)"
   ]
  },
  {
   "cell_type": "code",
   "execution_count": 65,
   "metadata": {},
   "outputs": [
    {
     "name": "stdout",
     "output_type": "stream",
     "text": [
      "1\n",
      "2\n",
      "[3, 5]\n",
      "4\n"
     ]
    }
   ],
   "source": [
    "# Iterate using for loop FOR x IN xxxx\n",
    "#### NEED TO ADD MORE DETAIL AND EXAMPLES ON HOW THIS WORKS ####\n",
    "\n",
    "\n",
    "\n",
    "list1 = [1,2,[3,5],4]\n",
    "for i in list1:\n",
    "    print(i)"
   ]
  },
  {
   "cell_type": "code",
   "execution_count": 66,
   "metadata": {},
   "outputs": [
    {
     "name": "stdout",
     "output_type": "stream",
     "text": [
      "12[3, 5]4"
     ]
    }
   ],
   "source": [
    "list1 = [1,2,[3,5],4]\n",
    "\n",
    "for i in list1:\n",
    "    print(i, end = \"\")"
   ]
  },
  {
   "cell_type": "code",
   "execution_count": 68,
   "metadata": {},
   "outputs": [
    {
     "name": "stdout",
     "output_type": "stream",
     "text": [
      "1\n",
      "2\n",
      "[3, 5]\n",
      "4\n"
     ]
    }
   ],
   "source": [
    "list1 = [1,2,[3,5],4]\n",
    "\n",
    "for i in list1:\n",
    "    print(i,end = \"\\n\")"
   ]
  },
  {
   "cell_type": "code",
   "execution_count": 69,
   "metadata": {},
   "outputs": [
    {
     "name": "stdout",
     "output_type": "stream",
     "text": [
      "I like apple\n",
      "I like banana\n",
      "I like mango\n"
     ]
    }
   ],
   "source": [
    "for fruit in ['apple','banana','mango']:\n",
    "    print(\"I like\", fruit)"
   ]
  },
  {
   "cell_type": "code",
   "execution_count": 70,
   "metadata": {},
   "outputs": [
    {
     "name": "stdout",
     "output_type": "stream",
     "text": [
      "Sorted list: ['a', 'e', 'i', 'o', 'u']\n"
     ]
    }
   ],
   "source": [
    "# Sort lists using list.sort()\n",
    "# if any comparison operations in this fail, the list will be left in a partially modified state\n",
    "\n",
    "# vowels list\n",
    "vowels = ['e','a','u','o','i']\n",
    "\n",
    "# sort the vowels, this will sort them alphabetically \n",
    "vowels.sort()\n",
    "\n",
    "#print the vowel list after sort\n",
    "print('Sorted list:', vowels)\n"
   ]
  },
  {
   "cell_type": "code",
   "execution_count": 72,
   "metadata": {},
   "outputs": [
    {
     "name": "stdout",
     "output_type": "stream",
     "text": [
      "Sorted List: ['a', 'e', 'i', 'o', 'u']\n"
     ]
    },
    {
     "data": {
      "text/plain": [
       "(2534721141960, 2534724749768)"
      ]
     },
     "execution_count": 72,
     "metadata": {},
     "output_type": "execute_result"
    }
   ],
   "source": [
    "# if you use the sorted() function to create a new list it will create a new object instead of modifiying the orginal\n",
    "\n",
    "# vowels list\n",
    "vowels = ['e','a','u','o','i']\n",
    "\n",
    "# sort the vowels, this will sort them alphabetically \n",
    "sortedVowels = sorted(vowels)\n",
    "\n",
    "#print vowles\n",
    "print('Sorted List:', sortedVowels)\n",
    "\n",
    "# A new list has been created and returend by the built in sorted function\n",
    "id(vowels), id(sortedVowels)"
   ]
  },
  {
   "cell_type": "code",
   "execution_count": 73,
   "metadata": {},
   "outputs": [
    {
     "name": "stdout",
     "output_type": "stream",
     "text": [
      "2\n"
     ]
    }
   ],
   "source": [
    "# Other Helpful Methods\n",
    "\n",
    "list1 = ['a','p','p','l','e']\n",
    "\n",
    "# Count the # of character 'p'\n",
    "# OUTPUT should be 2\n",
    "\n",
    "print(list1.count('p'))"
   ]
  },
  {
   "cell_type": "code",
   "execution_count": 75,
   "metadata": {},
   "outputs": [
    {
     "name": "stdout",
     "output_type": "stream",
     "text": [
      "1\n"
     ]
    }
   ],
   "source": [
    "# .index() will return the index of the first element that is equal to defined\n",
    "\n",
    "list1 = ['a','p','p','l','e']\n",
    "\n",
    "print(list1.index('p'))"
   ]
  },
  {
   "cell_type": "code",
   "execution_count": null,
   "metadata": {},
   "outputs": [],
   "source": []
  },
  {
   "cell_type": "code",
   "execution_count": null,
   "metadata": {},
   "outputs": [],
   "source": []
  },
  {
   "cell_type": "code",
   "execution_count": null,
   "metadata": {},
   "outputs": [],
   "source": []
  },
  {
   "cell_type": "code",
   "execution_count": null,
   "metadata": {},
   "outputs": [],
   "source": []
  },
  {
   "cell_type": "code",
   "execution_count": null,
   "metadata": {},
   "outputs": [],
   "source": [
    "### *** MODULE 2 PART 7 *** ###\n",
    "# *** RANGE PROPERTIES *** #\n",
    "# Ranges are immutable sequences of data\n",
    "# Ranges ALWAYS take the same amount of memory\n",
    "\n",
    "# Uses syntax of range(start,stop,step)"
   ]
  },
  {
   "cell_type": "code",
   "execution_count": null,
   "metadata": {},
   "outputs": [],
   "source": []
  },
  {
   "cell_type": "code",
   "execution_count": null,
   "metadata": {},
   "outputs": [],
   "source": []
  },
  {
   "cell_type": "code",
   "execution_count": 1,
   "metadata": {},
   "outputs": [
    {
     "data": {
      "text/plain": [
       "range(0, 10)"
      ]
     },
     "execution_count": 1,
     "metadata": {},
     "output_type": "execute_result"
    }
   ],
   "source": [
    "range(10)"
   ]
  },
  {
   "cell_type": "code",
   "execution_count": 2,
   "metadata": {},
   "outputs": [
    {
     "data": {
      "text/plain": [
       "[0, 1, 2, 3, 4, 5, 6, 7, 8, 9]"
      ]
     },
     "execution_count": 2,
     "metadata": {},
     "output_type": "execute_result"
    }
   ],
   "source": [
    "list(range(10))"
   ]
  },
  {
   "cell_type": "code",
   "execution_count": 3,
   "metadata": {},
   "outputs": [
    {
     "data": {
      "text/plain": [
       "[1, 2, 3, 4, 5, 6, 7, 8, 9, 10]"
      ]
     },
     "execution_count": 3,
     "metadata": {},
     "output_type": "execute_result"
    }
   ],
   "source": [
    "list(range(1,11))"
   ]
  },
  {
   "cell_type": "code",
   "execution_count": 4,
   "metadata": {},
   "outputs": [
    {
     "data": {
      "text/plain": [
       "[0, 5, 10, 15, 20, 25]"
      ]
     },
     "execution_count": 4,
     "metadata": {},
     "output_type": "execute_result"
    }
   ],
   "source": [
    "list(range(0,30,5))"
   ]
  },
  {
   "cell_type": "code",
   "execution_count": 5,
   "metadata": {},
   "outputs": [
    {
     "data": {
      "text/plain": [
       "[0, 3, 6, 9]"
      ]
     },
     "execution_count": 5,
     "metadata": {},
     "output_type": "execute_result"
    }
   ],
   "source": [
    "list(range(0,10,3))"
   ]
  },
  {
   "cell_type": "code",
   "execution_count": 6,
   "metadata": {},
   "outputs": [
    {
     "data": {
      "text/plain": [
       "[0, -1, -2, -3, -4, -5, -6, -7, -8, -9]"
      ]
     },
     "execution_count": 6,
     "metadata": {},
     "output_type": "execute_result"
    }
   ],
   "source": [
    "list(range(0,-10,-1))"
   ]
  },
  {
   "cell_type": "code",
   "execution_count": 8,
   "metadata": {},
   "outputs": [
    {
     "data": {
      "text/plain": [
       "[]"
      ]
     },
     "execution_count": 8,
     "metadata": {},
     "output_type": "execute_result"
    }
   ],
   "source": [
    "list(range(0))"
   ]
  },
  {
   "cell_type": "code",
   "execution_count": 9,
   "metadata": {},
   "outputs": [
    {
     "data": {
      "text/plain": [
       "[]"
      ]
     },
     "execution_count": 9,
     "metadata": {},
     "output_type": "execute_result"
    }
   ],
   "source": [
    "list(range(1,0))"
   ]
  },
  {
   "cell_type": "code",
   "execution_count": null,
   "metadata": {},
   "outputs": [],
   "source": []
  },
  {
   "cell_type": "code",
   "execution_count": null,
   "metadata": {},
   "outputs": [],
   "source": []
  },
  {
   "cell_type": "code",
   "execution_count": null,
   "metadata": {},
   "outputs": [],
   "source": [
    "### *** MODULE 2 PART 8 *** ###\n",
    "# *** STRING PROPERTIES *** #\n",
    "# Python treats single quotes the same as double quotes ' \"\" '\n",
    "# Assign a value to a variable with quotes to create a string"
   ]
  },
  {
   "cell_type": "code",
   "execution_count": 10,
   "metadata": {},
   "outputs": [
    {
     "name": "stdout",
     "output_type": "stream",
     "text": [
      "Hello\n",
      "Hello\n"
     ]
    }
   ],
   "source": [
    "aStr = \"Hello\"\n",
    "print(aStr)\n",
    "\n",
    "aStr2 = 'Hello'\n",
    "print(aStr2)"
   ]
  },
  {
   "cell_type": "code",
   "execution_count": 11,
   "metadata": {},
   "outputs": [
    {
     "name": "stdout",
     "output_type": "stream",
     "text": [
      "The lenght of this string - or the number of characters:  17\n"
     ]
    }
   ],
   "source": [
    "# len() built in function can count the number of characters in a defined string.\n",
    "\n",
    "# Declare a string\n",
    "\n",
    "aStr = 'This is a string.'\n",
    "print(\"The lenght of this string - or the number of characters: \", len(aStr))"
   ]
  },
  {
   "cell_type": "code",
   "execution_count": 12,
   "metadata": {
    "scrolled": true
   },
   "outputs": [
    {
     "name": "stdout",
     "output_type": "stream",
     "text": [
      "The lenght of this string:  17\n",
      "T\n",
      "h\n",
      ".\n"
     ]
    }
   ],
   "source": [
    "aStr = 'This is a string.'\n",
    "print('The lenght of this string: ', len(aStr))\n",
    "\n",
    "# Strings are a sequence data type, and can use indices to specify locations in the string.\n",
    "# Like all sequences in Python the indicies of a string always start with zero.\n",
    "print(aStr[0])\n",
    "print(aStr[1])\n",
    "print(aStr[16])"
   ]
  },
  {
   "cell_type": "code",
   "execution_count": 13,
   "metadata": {},
   "outputs": [
    {
     "ename": "IndexError",
     "evalue": "string index out of range",
     "output_type": "error",
     "traceback": [
      "\u001b[1;31m---------------------------------------------------------------------------\u001b[0m",
      "\u001b[1;31mIndexError\u001b[0m                                Traceback (most recent call last)",
      "\u001b[1;32m<ipython-input-13-302af0c9e204>\u001b[0m in \u001b[0;36m<module>\u001b[1;34m()\u001b[0m\n\u001b[0;32m      1\u001b[0m \u001b[0maStr\u001b[0m \u001b[1;33m=\u001b[0m \u001b[1;34m'This is a string.'\u001b[0m\u001b[1;33m\u001b[0m\u001b[0m\n\u001b[0;32m      2\u001b[0m \u001b[1;33m\u001b[0m\u001b[0m\n\u001b[1;32m----> 3\u001b[1;33m \u001b[0mprint\u001b[0m\u001b[1;33m(\u001b[0m\u001b[0maStr\u001b[0m\u001b[1;33m[\u001b[0m\u001b[1;36m17\u001b[0m\u001b[1;33m]\u001b[0m\u001b[1;33m)\u001b[0m\u001b[1;33m\u001b[0m\u001b[0m\n\u001b[0m",
      "\u001b[1;31mIndexError\u001b[0m: string index out of range"
     ]
    }
   ],
   "source": [
    "# Example showing the result if the index location is beyond the scope of the string.\n",
    "\n",
    "aStr = 'This is a string.'\n",
    "\n",
    "print(aStr[17])"
   ]
  },
  {
   "cell_type": "code",
   "execution_count": 14,
   "metadata": {},
   "outputs": [
    {
     "name": "stdout",
     "output_type": "stream",
     "text": [
      "Hello\n",
      "Hello\n",
      "Hello\n",
      "Hello. Welcome to\n",
      "        Python World!\n"
     ]
    }
   ],
   "source": [
    "# All lof the following are equivalent\n",
    "\n",
    "my_string = 'Hello'\n",
    "print(my_string)\n",
    "\n",
    "my_string2 = \"Hello\"\n",
    "print(my_string2)\n",
    "\n",
    "my_string3 = '''Hello'''\n",
    "print(my_string3)\n",
    "\n",
    "# Triple quotes strings can extend multiple lines\n",
    "\n",
    "my_string4 = \"\"\"Hello. Welcome to\n",
    "        Python World!\"\"\"\n",
    "print(my_string4)"
   ]
  },
  {
   "cell_type": "code",
   "execution_count": 16,
   "metadata": {},
   "outputs": [
    {
     "name": "stdout",
     "output_type": "stream",
     "text": [
      "This is a list:  ['This', 'is', 'a', 'string']\n",
      "This is a string\n"
     ]
    }
   ],
   "source": [
    "# Creating strings from Lists using .join()\n",
    "# xxx.join(listname)\n",
    "# Version 1: List of strings --> A string\n",
    "\n",
    "aList = ['This', 'is', 'a', 'string']\n",
    "print(\"This is a list: \", aList)\n",
    "\n",
    "aString = \" \".join(aList)\n",
    "\n",
    "# aString is a string: \"This is a string\"\n",
    "\n",
    "print(aString)"
   ]
  },
  {
   "cell_type": "code",
   "execution_count": 18,
   "metadata": {},
   "outputs": [
    {
     "name": "stdout",
     "output_type": "stream",
     "text": [
      "This is a list of strings:  ['20', '30', '40', '50', '60']\n",
      "This is a string:  20 30 40 50 60\n"
     ]
    }
   ],
   "source": [
    "# Creating Strings from Lists using str() and join()\n",
    "# Version 2: List of Numbers --> A string\n",
    "\n",
    "# A list of numbers\n",
    "aList = [20,30,40,50,60]\n",
    "\n",
    "# Convert aList into a list of strings - Using the constrcutor str()\n",
    "aStrList = [str(element) for element in aList]\n",
    "print(\"This is a list of strings: \", aStrList)\n",
    "\n",
    "# Using joiun() to create a new string\n",
    "aString = \" \".join(aStrList)\n",
    "\n",
    "#aString = \"20 30 40 50 60\"\n",
    "print(\"This is a string: \", aString)\n"
   ]
  },
  {
   "cell_type": "code",
   "execution_count": 20,
   "metadata": {},
   "outputs": [
    {
     "name": "stdout",
     "output_type": "stream",
     "text": [
      "<itertools.combinations object at 0x000001B5EA3EAEF8>\n"
     ]
    },
    {
     "data": {
      "text/plain": [
       "['1,2,3', '1,2,4', '1,3,4', '2,3,4']"
      ]
     },
     "execution_count": 20,
     "metadata": {},
     "output_type": "execute_result"
    }
   ],
   "source": [
    "# Creating Strings from Lists using map() and join()\n",
    "# Generate the combination from the list\n",
    "# Then transform each element of the list into a string\n",
    "\n",
    "### NEED TO ADD MORE DETAIL ON THIS ONE ####\n",
    "\n",
    "from itertools import combinations\n",
    "L = [1,2,3,4]\n",
    "print(combinations(L,3))\n",
    "\n",
    "# Using map() and join() to convert each numeric combination into a string\n",
    "# Thanks to this technique, we can display the list of combinations\n",
    "[\",\".join(map(str, comb)) for comb in combinations(L,3)]"
   ]
  },
  {
   "cell_type": "code",
   "execution_count": 22,
   "metadata": {},
   "outputs": [
    {
     "name": "stdout",
     "output_type": "stream",
     "text": [
      "str =  programiz\n",
      "str[0] =  p\n",
      "str[2] =  o\n",
      "str[-1] =  z\n"
     ]
    }
   ],
   "source": [
    "### ACCESS CHARACTERS IN STRINGS ###\n",
    "# Python allows negative indexing for its sequences.\n",
    "# The index of -1 refers to the last item, -2 to the second to last item and so on\n",
    "# We can access a range of items in a string by using the slicing operator (colon)\n",
    "\n",
    "str = 'programiz'\n",
    "print('str = ', str)\n",
    "\n",
    "# First character\n",
    "print('str[0] = ', str[0])\n",
    "\n",
    "# Third character\n",
    "print('str[2] = ', str[2])\n",
    "\n",
    "# Last character\n",
    "print('str[-1] = ', str[-1])"
   ]
  },
  {
   "cell_type": "code",
   "execution_count": 23,
   "metadata": {},
   "outputs": [
    {
     "name": "stdout",
     "output_type": "stream",
     "text": [
      "str[1:5] =  rogr\n",
      "str[5:-2] =  am\n",
      "ho\n",
      "String\n",
      "Python\n",
      "St\n"
     ]
    }
   ],
   "source": [
    "# Access a slice of strings\n",
    "\n",
    "str ='programiz'\n",
    "\n",
    "# Slicing 2nd to 5th character\n",
    "print('str[1:5] = ', str[1:5])\n",
    "\n",
    "# Slicing 6th to 2nd to last character\n",
    "print('str[5:-2] = ', str[5:-2])\n",
    "\n",
    "sample_str = 'Python String'\n",
    "print(sample_str[3:5])   # Print a range of characters from index 3 to index 4\n",
    "print(sample_str[7:])   # Print ALL characters from index 7\n",
    "print(sample_str[:6])   # Print ALL characters before index 6\n",
    "print(sample_str[7:-4])   # Print a range of characters from index 7 to index -4"
   ]
  },
  {
   "cell_type": "code",
   "execution_count": 24,
   "metadata": {},
   "outputs": [
    {
     "ename": "TypeError",
     "evalue": "'str' object does not support item assignment",
     "output_type": "error",
     "traceback": [
      "\u001b[1;31m---------------------------------------------------------------------------\u001b[0m",
      "\u001b[1;31mTypeError\u001b[0m                                 Traceback (most recent call last)",
      "\u001b[1;32m<ipython-input-24-ec3995c17778>\u001b[0m in \u001b[0;36m<module>\u001b[1;34m()\u001b[0m\n\u001b[0;32m      3\u001b[0m \u001b[1;33m\u001b[0m\u001b[0m\n\u001b[0;32m      4\u001b[0m \u001b[0msample_str\u001b[0m \u001b[1;33m=\u001b[0m \u001b[1;34m'Python String'\u001b[0m\u001b[1;33m\u001b[0m\u001b[0m\n\u001b[1;32m----> 5\u001b[1;33m \u001b[0msample_str\u001b[0m\u001b[1;33m[\u001b[0m\u001b[1;36m2\u001b[0m\u001b[1;33m]\u001b[0m \u001b[1;33m=\u001b[0m \u001b[1;34m'a'\u001b[0m\u001b[1;33m\u001b[0m\u001b[0m\n\u001b[0m",
      "\u001b[1;31mTypeError\u001b[0m: 'str' object does not support item assignment"
     ]
    }
   ],
   "source": [
    "### MODIFY STRINGS ###\n",
    "# Cant do it, strings are immutable and cannot be changed after being created\n",
    "\n",
    "sample_str = 'Python String'\n",
    "sample_str[2] = 'a'"
   ]
  },
  {
   "cell_type": "code",
   "execution_count": 25,
   "metadata": {},
   "outputs": [
    {
     "name": "stdout",
     "output_type": "stream",
     "text": [
      "str1:  This is a string.\n",
      "str1 after being reassigned:  This is a new string.\n"
     ]
    }
   ],
   "source": [
    "# Althoug a string can't be changed they can be reassigned with a new string\n",
    "\n",
    "str1 = \"This is a string.\"\n",
    "print(\"str1: \",str1)\n",
    "\n",
    "# Reassign a new tuple to tuple1\n",
    "str1 = \"This is a new string.\"\n",
    "\n",
    "print(\"str1 after being reassigned: \", str1)"
   ]
  },
  {
   "cell_type": "code",
   "execution_count": 26,
   "metadata": {},
   "outputs": [
    {
     "data": {
      "text/plain": [
       "(1880829132616, 1880829132616)"
      ]
     },
     "execution_count": 26,
     "metadata": {},
     "output_type": "execute_result"
    }
   ],
   "source": [
    "# Shallow Copy on strings will only copy the reference and does not create a new object in Pythong\n",
    "\n",
    "str1 = \"Hello\"\n",
    "str2 = str1\n",
    "\n",
    "# Both the strings will refer to the same object and share the same id value\n",
    "id(str1), id(str2)"
   ]
  },
  {
   "cell_type": "code",
   "execution_count": null,
   "metadata": {},
   "outputs": [],
   "source": [
    "# Deep Copy CANNOT be preformed on strings\n"
   ]
  },
  {
   "cell_type": "code",
   "execution_count": 27,
   "metadata": {},
   "outputs": [
    {
     "name": "stdout",
     "output_type": "stream",
     "text": [
      "Python is the best scripting language.\n"
     ]
    },
    {
     "ename": "NameError",
     "evalue": "name 'sample_str' is not defined",
     "output_type": "error",
     "traceback": [
      "\u001b[1;31m---------------------------------------------------------------------------\u001b[0m",
      "\u001b[1;31mNameError\u001b[0m                                 Traceback (most recent call last)",
      "\u001b[1;32m<ipython-input-27-e6b3504a1529>\u001b[0m in \u001b[0;36m<module>\u001b[1;34m()\u001b[0m\n\u001b[0;32m      4\u001b[0m \u001b[0mprint\u001b[0m\u001b[1;33m(\u001b[0m\u001b[0msample_str\u001b[0m\u001b[1;33m)\u001b[0m\u001b[1;33m\u001b[0m\u001b[0m\n\u001b[0;32m      5\u001b[0m \u001b[1;32mdel\u001b[0m\u001b[1;33m(\u001b[0m\u001b[0msample_str\u001b[0m\u001b[1;33m)\u001b[0m\u001b[1;33m\u001b[0m\u001b[0m\n\u001b[1;32m----> 6\u001b[1;33m \u001b[0mprint\u001b[0m\u001b[1;33m(\u001b[0m\u001b[0msample_str\u001b[0m\u001b[1;33m)\u001b[0m\u001b[1;33m\u001b[0m\u001b[0m\n\u001b[0m",
      "\u001b[1;31mNameError\u001b[0m: name 'sample_str' is not defined"
     ]
    }
   ],
   "source": [
    "# Delete strings using del()\n",
    "\n",
    "sample_str = \"Python is the best scripting language.\"\n",
    "print(sample_str)\n",
    "\n",
    "# After del() is run the string no longer exists to be printed to screen\n",
    "del(sample_str)\n",
    "print(sample_str)"
   ]
  },
  {
   "cell_type": "code",
   "execution_count": 28,
   "metadata": {},
   "outputs": [
    {
     "name": "stdout",
     "output_type": "stream",
     "text": [
      "str1 + str2 + str3 =  Hello World!\n"
     ]
    }
   ],
   "source": [
    "# Concatenate on Strings use +\n",
    "\n",
    "str1 = \"Hello\"\n",
    "str2 = \" \"\n",
    "str3 = \"World!\"\n",
    "\n",
    "# use + to concatenate\n",
    "print('str1 + str2 + str3 = ', str1 + str2 + str3)\n"
   ]
  },
  {
   "cell_type": "code",
   "execution_count": 29,
   "metadata": {},
   "outputs": [
    {
     "name": "stdout",
     "output_type": "stream",
     "text": [
      "The string has been replicated three times:  HelloHelloHello\n"
     ]
    }
   ],
   "source": [
    "# Replication of Strings using *\n",
    "\n",
    "str = \"Hello\"\n",
    "\n",
    "replicatedStr = str * 3\n",
    "\n",
    "print(\"The string has been replicated three times: \", replicatedStr)"
   ]
  },
  {
   "cell_type": "code",
   "execution_count": 30,
   "metadata": {},
   "outputs": [
    {
     "name": "stdout",
     "output_type": "stream",
     "text": [
      "True\n",
      "False\n"
     ]
    }
   ],
   "source": [
    "# Testing substrings using \"in\" and \"not in\" to search strings\n",
    "\n",
    "str1 = \"Welcome\"\n",
    "print(\"come\" in str1)\n",
    "print(\"come\" not in str1)"
   ]
  },
  {
   "cell_type": "code",
   "execution_count": 31,
   "metadata": {},
   "outputs": [
    {
     "name": "stdout",
     "output_type": "stream",
     "text": [
      "True\n",
      "False\n",
      "False\n"
     ]
    }
   ],
   "source": [
    "# Comparing strings using value comparison <,>,=<, == ect\n",
    "# Can be\n",
    "\n",
    "# TRUE: \"apple\" comes before \"banana\"\n",
    "print(\"apple\" < \"banana\")\n",
    "print(\"apple\" < \"Apple\")\n",
    "\n",
    "print(\"apple\" == \"Apple\")"
   ]
  },
  {
   "cell_type": "code",
   "execution_count": 32,
   "metadata": {},
   "outputs": [
    {
     "name": "stdout",
     "output_type": "stream",
     "text": [
      "H\n",
      "e\n",
      "l\n",
      "l\n",
      "o\n"
     ]
    }
   ],
   "source": [
    "# Iterate strings using FOR loops\n",
    "\n",
    "aStr = \"Hello\"\n",
    "\n",
    "for i in aStr:\n",
    "    print(i)"
   ]
  },
  {
   "cell_type": "code",
   "execution_count": 33,
   "metadata": {},
   "outputs": [
    {
     "name": "stdout",
     "output_type": "stream",
     "text": [
      "Hello"
     ]
    }
   ],
   "source": [
    "aStr = \"Hello\"\n",
    "\n",
    "for i in aStr:\n",
    "    print(i, end=\"\")\n"
   ]
  },
  {
   "cell_type": "code",
   "execution_count": 34,
   "metadata": {},
   "outputs": [
    {
     "name": "stdout",
     "output_type": "stream",
     "text": [
      "H\n",
      "e\n",
      "l\n",
      "l\n",
      "o\n"
     ]
    }
   ],
   "source": [
    "aStr = \"Hello\"\n",
    "\n",
    "for i in aStr:\n",
    "    print(i, end='\\n')"
   ]
  },
  {
   "cell_type": "code",
   "execution_count": 39,
   "metadata": {},
   "outputs": [
    {
     "data": {
      "text/plain": [
       "False"
      ]
     },
     "execution_count": 39,
     "metadata": {},
     "output_type": "execute_result"
    }
   ],
   "source": [
    "# Test strings\n",
    "# .isalnum() returns True if string is alphanumeric DOES NOT INCLUDE SPACE or UNDERSCORE\n",
    "\n",
    "s = 'welcome to python'\n",
    "s.isalnum()\n",
    "\n"
   ]
  },
  {
   "cell_type": "code",
   "execution_count": 40,
   "metadata": {},
   "outputs": [
    {
     "data": {
      "text/plain": [
       "False"
      ]
     },
     "execution_count": 40,
     "metadata": {},
     "output_type": "execute_result"
    }
   ],
   "source": [
    "r = 'welcome_to_python'\n",
    "r.isalnum()"
   ]
  },
  {
   "cell_type": "code",
   "execution_count": 42,
   "metadata": {},
   "outputs": [
    {
     "data": {
      "text/plain": [
       "True"
      ]
     },
     "execution_count": 42,
     "metadata": {},
     "output_type": "execute_result"
    }
   ],
   "source": [
    "q = 'welcometopython'\n",
    "q.isalnum()"
   ]
  },
  {
   "cell_type": "code",
   "execution_count": 43,
   "metadata": {},
   "outputs": [
    {
     "data": {
      "text/plain": [
       "True"
      ]
     },
     "execution_count": 43,
     "metadata": {},
     "output_type": "execute_result"
    }
   ],
   "source": [
    "# .isalpha() returns True if string is only alphabets\n",
    "\n",
    "\"Welcome\".isalpha()"
   ]
  },
  {
   "cell_type": "code",
   "execution_count": 44,
   "metadata": {},
   "outputs": [
    {
     "data": {
      "text/plain": [
       "False"
      ]
     },
     "execution_count": 44,
     "metadata": {},
     "output_type": "execute_result"
    }
   ],
   "source": [
    "# .isidentifier()\n",
    "\n",
    "\"first number\".isidentifier()"
   ]
  },
  {
   "cell_type": "code",
   "execution_count": 45,
   "metadata": {},
   "outputs": [
    {
     "data": {
      "text/plain": [
       "True"
      ]
     },
     "execution_count": 45,
     "metadata": {},
     "output_type": "execute_result"
    }
   ],
   "source": [
    "# .isupper()\n",
    "\n",
    "\"WELCOME\".isupper()"
   ]
  },
  {
   "cell_type": "code",
   "execution_count": 46,
   "metadata": {},
   "outputs": [
    {
     "data": {
      "text/plain": [
       "False"
      ]
     },
     "execution_count": 46,
     "metadata": {},
     "output_type": "execute_result"
    }
   ],
   "source": [
    "# .islower()\n",
    "\n",
    "\"Welcome\".islower()"
   ]
  },
  {
   "cell_type": "code",
   "execution_count": 47,
   "metadata": {},
   "outputs": [
    {
     "data": {
      "text/plain": [
       "True"
      ]
     },
     "execution_count": 47,
     "metadata": {},
     "output_type": "execute_result"
    }
   ],
   "source": [
    "# .islower()\n",
    "\n",
    "s.islower()"
   ]
  },
  {
   "cell_type": "code",
   "execution_count": 48,
   "metadata": {},
   "outputs": [
    {
     "data": {
      "text/plain": [
       "True"
      ]
     },
     "execution_count": 48,
     "metadata": {},
     "output_type": "execute_result"
    }
   ],
   "source": [
    "# .isspace()\n",
    "\n",
    "\" \\t\".isspace()"
   ]
  },
  {
   "cell_type": "code",
   "execution_count": 49,
   "metadata": {},
   "outputs": [
    {
     "name": "stdout",
     "output_type": "stream",
     "text": [
      "2\n"
     ]
    }
   ],
   "source": [
    "# .count() will count the # of elements in a string that are equal to ()\n",
    "\n",
    "str1 = \"This is a string: Hello ... Hello Python World!\"\n",
    "\n",
    "print(str1.count(\"Hello\"))"
   ]
  },
  {
   "cell_type": "code",
   "execution_count": 50,
   "metadata": {},
   "outputs": [
    {
     "name": "stdout",
     "output_type": "stream",
     "text": [
      "3\n"
     ]
    }
   ],
   "source": [
    "# index \n",
    "\n",
    "str1 = \"This is a string: Hello ... Hello Python World!\"\n",
    "\n",
    "print(str1.index('s'))"
   ]
  },
  {
   "cell_type": "code",
   "execution_count": null,
   "metadata": {},
   "outputs": [],
   "source": []
  },
  {
   "cell_type": "code",
   "execution_count": null,
   "metadata": {},
   "outputs": [],
   "source": []
  },
  {
   "cell_type": "code",
   "execution_count": null,
   "metadata": {},
   "outputs": [],
   "source": []
  },
  {
   "cell_type": "code",
   "execution_count": null,
   "metadata": {},
   "outputs": [],
   "source": []
  },
  {
   "cell_type": "code",
   "execution_count": null,
   "metadata": {},
   "outputs": [],
   "source": [
    "### *** MODULE 2 PART 9 *** ###\n",
    "# *** TUPLE PROPERTIES *** #\n",
    "# Tuples inclose data in () parentheses instead of square brackets\n",
    "# Tuples are faster than lists\n",
    "# Tuples are immutable sequences data type and cannot be changed after being created\n",
    "# Tuples cannot have elements added or removed after creation\n",
    "# Tuples can be used as keys in dictionaies, lists cannot\n",
    "# Tuples should be used for heterogenous (different) data types and lists for homogenous data types\n",
    "# Work similar to lists and strings using len() to lenght, [] brackets to access data, first element is 0\n",
    "\n"
   ]
  },
  {
   "cell_type": "code",
   "execution_count": 1,
   "metadata": {},
   "outputs": [
    {
     "data": {
      "text/plain": [
       "'tuples'"
      ]
     },
     "execution_count": 1,
     "metadata": {},
     "output_type": "execute_result"
    }
   ],
   "source": [
    "t = (\"tuples\", \"are\", \"immutable\")\n",
    "t[0]"
   ]
  },
  {
   "cell_type": "code",
   "execution_count": 2,
   "metadata": {},
   "outputs": [
    {
     "name": "stdout",
     "output_type": "stream",
     "text": [
      "tuples\n",
      "immutable\n",
      "tuples\n",
      "3\n"
     ]
    }
   ],
   "source": [
    "t = (\"tuples\", \"are\", \"immutable\")\n",
    "print(t[0])\n",
    "print(t[-1])\n",
    "print(t[-3])\n",
    "\n",
    "print(len(t))"
   ]
  },
  {
   "cell_type": "code",
   "execution_count": 3,
   "metadata": {},
   "outputs": [
    {
     "name": "stdout",
     "output_type": "stream",
     "text": [
      "()\n"
     ]
    }
   ],
   "source": [
    "# Constructing Tuples\n",
    "\n",
    "# empty tuple\n",
    "# OUTPUT should be : ()\n",
    "\n",
    "my_tuple = ()\n",
    "print(my_tuple)"
   ]
  },
  {
   "cell_type": "code",
   "execution_count": 4,
   "metadata": {},
   "outputs": [
    {
     "name": "stdout",
     "output_type": "stream",
     "text": [
      "(1, 2, 3)\n"
     ]
    }
   ],
   "source": [
    "# tuple with integers\n",
    "# OUTPUT should be : (1,2,3)\n",
    "\n",
    "my_tuple = (1,2,3)\n",
    "print(my_tuple)"
   ]
  },
  {
   "cell_type": "code",
   "execution_count": 6,
   "metadata": {},
   "outputs": [
    {
     "name": "stdout",
     "output_type": "stream",
     "text": [
      "(1, 'Hello', 3.4)\n"
     ]
    }
   ],
   "source": [
    "# tuple with mixed data types\n",
    "# OUTPUT should be : (1, \"Hello\", 3.4)\n",
    "\n",
    "my_tuple = (1,\"Hello\",3.4)\n",
    "print(my_tuple)"
   ]
  },
  {
   "cell_type": "code",
   "execution_count": 7,
   "metadata": {},
   "outputs": [
    {
     "name": "stdout",
     "output_type": "stream",
     "text": [
      "('mouse', [8, 4, 6], (1, 2, 3))\n"
     ]
    }
   ],
   "source": [
    "# nested tuple\n",
    "# OUTPUT should be: (\"mouse\", [8,4,6], (1,2,3))\n",
    "\n",
    "my_tuple = (\"mouse\", [8,4,6], (1,2,3))\n",
    "print(my_tuple)"
   ]
  },
  {
   "cell_type": "code",
   "execution_count": 10,
   "metadata": {},
   "outputs": [
    {
     "name": "stdout",
     "output_type": "stream",
     "text": [
      "<class 'str'>\n"
     ]
    }
   ],
   "source": [
    "# Creating a tuple with only a single element\n",
    "# why would you want to do this?\n",
    "\n",
    "#only parentheses is not enough\n",
    "# OUTPUT should be : <class 'str'>\n",
    "# showing that is just just creating a string\n",
    "\n",
    "my_tuple = (\"hello\")\n",
    "print(type(my_tuple))"
   ]
  },
  {
   "cell_type": "code",
   "execution_count": 11,
   "metadata": {},
   "outputs": [
    {
     "name": "stdout",
     "output_type": "stream",
     "text": [
      "<class 'tuple'>\n"
     ]
    }
   ],
   "source": [
    "# need comma at the end to create the actual tuple with a single element\n",
    "my_tuple = (\"hello\",)\n",
    "print(type(my_tuple))"
   ]
  },
  {
   "cell_type": "code",
   "execution_count": 12,
   "metadata": {},
   "outputs": [
    {
     "name": "stdout",
     "output_type": "stream",
     "text": [
      "<class 'tuple'>\n"
     ]
    }
   ],
   "source": [
    "# parentheses is actually optional\n",
    "\n",
    "my_tuple = \"hello\",\n",
    "print(type(my_tuple))"
   ]
  },
  {
   "cell_type": "code",
   "execution_count": 17,
   "metadata": {},
   "outputs": [
    {
     "name": "stdout",
     "output_type": "stream",
     "text": [
      "p\n",
      "t\n",
      "s\n",
      "4\n"
     ]
    }
   ],
   "source": [
    "# Accessing single elements of Tuples with index\n",
    "\n",
    "my_tuple = ('p','e','r','m','i','t')\n",
    "\n",
    "# OUTPUT should be : 'p'\n",
    "print(my_tuple[0])\n",
    "\n",
    "# OUTPUT should be : 't'\n",
    "print(my_tuple[5])\n",
    "\n",
    "# nested tuple\n",
    "n_tuple = (\"mouse\", [8,4,6], (1,2,3))\n",
    "\n",
    "# nested index\n",
    "# OUTPUT should be : 's'\n",
    "print(n_tuple[0][3])\n",
    "\n",
    "# nested index\n",
    "# OUTPUT should be : '4'\n",
    "print(n_tuple[1][1])\n",
    "\n",
    "\n",
    "### WHY DOES THIS RETURN 4 I NEED TO REVIEW ###"
   ]
  },
  {
   "cell_type": "code",
   "execution_count": 18,
   "metadata": {},
   "outputs": [
    {
     "data": {
      "text/plain": [
       "6"
      ]
     },
     "execution_count": 18,
     "metadata": {},
     "output_type": "execute_result"
    }
   ],
   "source": [
    "my_tuple = ('p','e','r','m','i','t')\n",
    "\n",
    "len(my_tuple)"
   ]
  },
  {
   "cell_type": "code",
   "execution_count": 19,
   "metadata": {},
   "outputs": [
    {
     "name": "stdout",
     "output_type": "stream",
     "text": [
      "t\n",
      "p\n"
     ]
    }
   ],
   "source": [
    "my_tuple = ('p','e','r','m','i','t')\n",
    "\n",
    "# OUTPUT should be 't' -1 returns the last in the tuple/list\n",
    "print(my_tuple[-1])\n",
    "\n",
    "# OUTPUT should be 'p' 6th from the last which is the first\n",
    "print(my_tuple[-6])"
   ]
  },
  {
   "cell_type": "code",
   "execution_count": 21,
   "metadata": {},
   "outputs": [
    {
     "ename": "IndexError",
     "evalue": "tuple index out of range",
     "output_type": "error",
     "traceback": [
      "\u001b[1;31m---------------------------------------------------------------------------\u001b[0m",
      "\u001b[1;31mIndexError\u001b[0m                                Traceback (most recent call last)",
      "\u001b[1;32m<ipython-input-21-dfd020d90173>\u001b[0m in \u001b[0;36m<module>\u001b[1;34m()\u001b[0m\n\u001b[0;32m      8\u001b[0m \u001b[1;33m\u001b[0m\u001b[0m\n\u001b[0;32m      9\u001b[0m \u001b[1;33m\u001b[0m\u001b[0m\n\u001b[1;32m---> 10\u001b[1;33m \u001b[0mprint\u001b[0m\u001b[1;33m(\u001b[0m\u001b[0mmy_tuple\u001b[0m\u001b[1;33m[\u001b[0m\u001b[1;36m6\u001b[0m\u001b[1;33m]\u001b[0m\u001b[1;33m)\u001b[0m\u001b[1;33m\u001b[0m\u001b[0m\n\u001b[0m",
      "\u001b[1;31mIndexError\u001b[0m: tuple index out of range"
     ]
    }
   ],
   "source": [
    "my_tuple = ('p','e','r','m','i','t')\n",
    "\n",
    "# Range of the indices: 0 .. len(my_tuples) - 1: 0 .. 6\n",
    "\n",
    "# index must be in range\n",
    "# ERROR: out of range result if its greater than the tuple # of elements\n",
    "# this tuple has 6 elements, [6] will return the 7th element\n",
    "\n",
    "\n",
    "print(my_tuple[6])"
   ]
  },
  {
   "cell_type": "code",
   "execution_count": 30,
   "metadata": {},
   "outputs": [
    {
     "name": "stdout",
     "output_type": "stream",
     "text": [
      "('r', 'o', 'g')\n",
      "('p', 'r')\n",
      "('i', 'z')\n",
      "('p', 'r', 'o', 'g', 'r', 'a', 'm', 'i', 'z')\n"
     ]
    }
   ],
   "source": [
    "# ACCESSING A SLICE OF TUPLES\n",
    "\n",
    "my_tuple = ('p','r','o','g','r','a','m','i','z')\n",
    "\n",
    "# return elements 2nd to 4th\n",
    "print(my_tuple[1:4])\n",
    "\n",
    "# return elements beginning to 2nd\n",
    "print(my_tuple[:-7])\n",
    "\n",
    "# return elements 8th to end\n",
    "print(my_tuple[7:])\n",
    "\n",
    "# return elements beginning to end\n",
    "print(my_tuple[:])"
   ]
  },
  {
   "cell_type": "code",
   "execution_count": 33,
   "metadata": {},
   "outputs": [
    {
     "ename": "TypeError",
     "evalue": "'tuple' object does not support item assignment",
     "output_type": "error",
     "traceback": [
      "\u001b[1;31m---------------------------------------------------------------------------\u001b[0m",
      "\u001b[1;31mTypeError\u001b[0m                                 Traceback (most recent call last)",
      "\u001b[1;32m<ipython-input-33-917b43807513>\u001b[0m in \u001b[0;36m<module>\u001b[1;34m()\u001b[0m\n\u001b[0;32m      5\u001b[0m \u001b[0maTuple\u001b[0m \u001b[1;33m=\u001b[0m \u001b[1;33m(\u001b[0m\u001b[1;34m'Python'\u001b[0m\u001b[1;33m,\u001b[0m \u001b[1;34m'C'\u001b[0m\u001b[1;33m,\u001b[0m \u001b[1;34m'C++'\u001b[0m\u001b[1;33m,\u001b[0m \u001b[1;34m'Java'\u001b[0m\u001b[1;33m,\u001b[0m \u001b[1;34m'Scala'\u001b[0m\u001b[1;33m)\u001b[0m\u001b[1;33m\u001b[0m\u001b[0m\n\u001b[0;32m      6\u001b[0m \u001b[1;33m\u001b[0m\u001b[0m\n\u001b[1;32m----> 7\u001b[1;33m \u001b[0maTuple\u001b[0m\u001b[1;33m[\u001b[0m\u001b[1;36m2\u001b[0m\u001b[1;33m]\u001b[0m \u001b[1;33m=\u001b[0m \u001b[1;34m'Ruby'\u001b[0m\u001b[1;33m\u001b[0m\u001b[0m\n\u001b[0m",
      "\u001b[1;31mTypeError\u001b[0m: 'tuple' object does not support item assignment"
     ]
    }
   ],
   "source": [
    "# MODIFY TUPLES\n",
    "# Tuples are immutable objects and all elements (integers, float, strings) cannot be changed\n",
    "# Any attempt to change will lead to errors\n",
    "\n",
    "aTuple = ('Python', 'C', 'C++', 'Java', 'Scala')\n",
    "\n",
    "aTuple[2] = 'Ruby'"
   ]
  },
  {
   "cell_type": "code",
   "execution_count": 34,
   "metadata": {},
   "outputs": [
    {
     "name": "stdout",
     "output_type": "stream",
     "text": [
      "(4, 2, 3, [9, 5])\n"
     ]
    }
   ],
   "source": [
    "# However if the element itself is a mutable datatype like a list its nested items can be changed\n",
    "\n",
    "my_tuple = (4,2,3,[6,5])\n",
    "\n",
    "my_tuple[3][0] = 9\n",
    "\n",
    "print(my_tuple)"
   ]
  },
  {
   "cell_type": "code",
   "execution_count": 35,
   "metadata": {},
   "outputs": [
    {
     "name": "stdout",
     "output_type": "stream",
     "text": [
      "tuple1 (4, 2, 3, [6, 5])\n",
      "tuple1 after being reassigned: ('p', 'r', 'o', 'g', 'r', 'a', 'm', 'i', 'z')\n"
     ]
    }
   ],
   "source": [
    "# You cannot change elements within a tuple but you can reassign to a brand new tuple\n",
    "\n",
    "tuple1 = (4,2,3,[6,5])\n",
    "print(\"tuple1\", tuple1)\n",
    "\n",
    "# Reassign a new tuple to the object 'tuple1'\n",
    "my_tuple = ('p','r','o','g','r','a','m','i','z')\n",
    "tuple1 = my_tuple\n",
    "\n",
    "print(\"tuple1 after being reassigned:\", tuple1)\n"
   ]
  },
  {
   "cell_type": "code",
   "execution_count": 41,
   "metadata": {},
   "outputs": [
    {
     "name": "stdout",
     "output_type": "stream",
     "text": [
      "<class 'tuple'>\n",
      "2354284920728 2354284920728\n"
     ]
    }
   ],
   "source": [
    "# Shallow Copy on Tuples\n",
    "# using = (shallow copy) on tuples will make the two variables point to the same tuple in MEMORY\n",
    "\n",
    "tuple1 = \"hello\",\n",
    "tuple2 = tuple1\n",
    "\n",
    "print(type(tuple1))\n",
    "print(id(tuple1), id(tuple2))"
   ]
  },
  {
   "cell_type": "code",
   "execution_count": null,
   "metadata": {},
   "outputs": [],
   "source": [
    "# Deep Copy on Tuples\n",
    "# Tuples CANNOT BE DEEP COPIED BECAUSE THEY ARE IMMUTABLE\n"
   ]
  },
  {
   "cell_type": "code",
   "execution_count": 42,
   "metadata": {},
   "outputs": [
    {
     "name": "stdout",
     "output_type": "stream",
     "text": [
      "<class 'tuple'>\n"
     ]
    },
    {
     "ename": "NameError",
     "evalue": "name 'aTuple' is not defined",
     "output_type": "error",
     "traceback": [
      "\u001b[1;31m---------------------------------------------------------------------------\u001b[0m",
      "\u001b[1;31mNameError\u001b[0m                                 Traceback (most recent call last)",
      "\u001b[1;32m<ipython-input-42-4462aeb23491>\u001b[0m in \u001b[0;36m<module>\u001b[1;34m()\u001b[0m\n\u001b[0;32m      6\u001b[0m \u001b[1;33m\u001b[0m\u001b[0m\n\u001b[0;32m      7\u001b[0m \u001b[1;32mdel\u001b[0m\u001b[1;33m(\u001b[0m\u001b[0maTuple\u001b[0m\u001b[1;33m)\u001b[0m\u001b[1;33m\u001b[0m\u001b[0m\n\u001b[1;32m----> 8\u001b[1;33m \u001b[0mprint\u001b[0m\u001b[1;33m(\u001b[0m\u001b[0maTuple\u001b[0m\u001b[1;33m)\u001b[0m\u001b[1;33m\u001b[0m\u001b[0m\n\u001b[0m",
      "\u001b[1;31mNameError\u001b[0m: name 'aTuple' is not defined"
     ]
    }
   ],
   "source": [
    "# Deleting Tuples\n",
    "# .del() to delete\n",
    "\n",
    "aTuple = \"Python is the best scripting language.\",\n",
    "print(type(aTuple))\n",
    "\n",
    "del(aTuple)\n",
    "print(aTuple)"
   ]
  },
  {
   "cell_type": "code",
   "execution_count": 44,
   "metadata": {},
   "outputs": [
    {
     "name": "stdout",
     "output_type": "stream",
     "text": [
      "tuple1 + tuple2 + tuple3 =  ('Hello', ' ', 'World!')\n"
     ]
    }
   ],
   "source": [
    "# Operations on Tuples\n",
    "\n",
    "tuple1 = 'Hello', #command to make sure it creates data type tuple\n",
    "tuple2 = ' ',\n",
    "tuple3 = 'World!',\n",
    "\n",
    "# concatenate using +\n",
    "print('tuple1 + tuple2 + tuple3 = ',tuple1 + tuple2 + tuple3)"
   ]
  },
  {
   "cell_type": "code",
   "execution_count": 45,
   "metadata": {},
   "outputs": [
    {
     "name": "stdout",
     "output_type": "stream",
     "text": [
      "('Hello', 'Hello', 'Hello')\n"
     ]
    }
   ],
   "source": [
    "# Replicate tuples\n",
    "\n",
    "tuple1 = 'Hello',\n",
    "replicatedTuple = tuple1 * 3\n",
    "\n",
    "print(replicatedTuple)"
   ]
  },
  {
   "cell_type": "code",
   "execution_count": 46,
   "metadata": {},
   "outputs": [
    {
     "name": "stdout",
     "output_type": "stream",
     "text": [
      "True\n",
      "True\n",
      "False\n"
     ]
    }
   ],
   "source": [
    "# Testing for elements using IN and NOT IN\n",
    "\n",
    "aTuple = (2,4,6, \"This\", \"is\", \"a\", \"tuple\")\n",
    "\n",
    "print(2 in aTuple)\n",
    "print('a' in aTuple)\n",
    "print('This is' in aTuple)"
   ]
  },
  {
   "cell_type": "code",
   "execution_count": 47,
   "metadata": {},
   "outputs": [
    {
     "name": "stdout",
     "output_type": "stream",
     "text": [
      "False\n"
     ]
    }
   ],
   "source": [
    "# Compare operatings with Tuples\n",
    "\n",
    "tuple1 = \"Hello World!\",\n",
    "tuple2 = \"hello world!\",\n",
    "print(tuple1 == tuple2)"
   ]
  },
  {
   "cell_type": "code",
   "execution_count": 52,
   "metadata": {
    "scrolled": true
   },
   "outputs": [
    {
     "name": "stdout",
     "output_type": "stream",
     "text": [
      "<class 'tuple'>\n",
      "This\n",
      "is\n",
      "1\n",
      "book\n"
     ]
    }
   ],
   "source": [
    "# Iterate a tuple using a FOR loop\n",
    "\n",
    "tuple1 = (\"This\", \"is\", 1, \"book\")\n",
    "print(type(tuple1))\n",
    "\n",
    "for i in tuple1:\n",
    "    print(i)"
   ]
  },
  {
   "cell_type": "code",
   "execution_count": 53,
   "metadata": {},
   "outputs": [
    {
     "name": "stdout",
     "output_type": "stream",
     "text": [
      "<class 'tuple'>\n",
      "Thisis1book"
     ]
    }
   ],
   "source": [
    "# Iterate a tuple using a FOR loop\n",
    "\n",
    "tuple1 = (\"This\", \"is\", 1, \"book\")\n",
    "\n",
    "for i in tuple1:\n",
    "    print(i, end=\"\")"
   ]
  },
  {
   "cell_type": "code",
   "execution_count": 54,
   "metadata": {},
   "outputs": [
    {
     "name": "stdout",
     "output_type": "stream",
     "text": [
      "This\n",
      "is\n",
      "1\n",
      "book\n"
     ]
    }
   ],
   "source": [
    "# Iterate a tuple using a FOR loop\n",
    "\n",
    "tuple1 = (\"This\", \"is\", 1, \"book\")\n",
    "\n",
    "for i in tuple1:\n",
    "    print(i, end=\"\\n\")"
   ]
  },
  {
   "cell_type": "code",
   "execution_count": 59,
   "metadata": {},
   "outputs": [
    {
     "name": "stdout",
     "output_type": "stream",
     "text": [
      "<class 'tuple'>\n",
      "2\n",
      "3\n"
     ]
    }
   ],
   "source": [
    "# Helpful Methods using Tuples\n",
    "# .count()\n",
    "# .index()\n",
    "\n",
    "my_tuple = ('a','p','p','l','e',)\n",
    "print(type(my_tuple))\n",
    "print(my_tuple.count('p'))\n",
    "\n",
    "print(my_tuple.index('l'))"
   ]
  },
  {
   "cell_type": "code",
   "execution_count": null,
   "metadata": {},
   "outputs": [],
   "source": []
  }
 ],
 "metadata": {
  "kernelspec": {
   "display_name": "Python 3",
   "language": "python",
   "name": "python3"
  },
  "language_info": {
   "codemirror_mode": {
    "name": "ipython",
    "version": 3
   },
   "file_extension": ".py",
   "mimetype": "text/x-python",
   "name": "python",
   "nbconvert_exporter": "python",
   "pygments_lexer": "ipython3",
   "version": "3.8.3"
  }
 },
 "nbformat": 4,
 "nbformat_minor": 2
}
