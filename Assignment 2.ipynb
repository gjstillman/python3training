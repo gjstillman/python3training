{
 "cells": [
  {
   "cell_type": "code",
   "execution_count": 5,
   "metadata": {},
   "outputs": [
    {
     "name": "stdout",
     "output_type": "stream",
     "text": [
      "x is a variable. It is an identifier. Its value is:  3 \n",
      "\n",
      "Data type of x:  <class 'int'> \n",
      "\n",
      "stdName is a variable. It is an identifier. Its value is:  John Smith \n",
      "\n",
      "Data type of stdName:  <class 'str'> \n",
      "\n"
     ]
    }
   ],
   "source": [
    "# x is a name of a variable. x is an identifier.\n",
    "x = 3\n",
    "\n",
    "print(\"x is a variable. It is an identifier. Its value is: \", x, \"\\n\")\n",
    "print(\"Data type of x: \", type(x), '\\n')\n",
    "\n",
    "# stdName is a name of a variable that represents the name of a student\n",
    "# stdName is an identifier\n",
    "stdName = \"John Smith\"\n",
    "\n",
    "print(\"stdName is a variable. It is an identifier. Its value is: \", stdName, \"\\n\")\n",
    "print(\"Data type of stdName: \", type(stdName), '\\n')"
   ]
  },
  {
   "cell_type": "code",
   "execution_count": 8,
   "metadata": {},
   "outputs": [
    {
     "name": "stdout",
     "output_type": "stream",
     "text": [
      "x is a variable. It is an identifier. Its value is:  3 \n",
      "\n",
      "Data type of x:  <class 'int'> \n",
      "\n"
     ]
    }
   ],
   "source": [
    "# x is a name of a variable. x is an identifier.\n",
    "x = 3\n",
    "\n",
    "print(\"x is a variable. It is an identifier. Its value is: \", x, \"\\n\")\n",
    "print(\"Data type of x: \", type(x), '\\n')"
   ]
  },
  {
   "cell_type": "code",
   "execution_count": 9,
   "metadata": {},
   "outputs": [
    {
     "name": "stdout",
     "output_type": "stream",
     "text": [
      "stdName is a variable. It is an identifier. Its value is:  John Smith \n",
      "\n",
      "Data type of stdName:  <class 'str'> \n",
      "\n"
     ]
    }
   ],
   "source": [
    "# stdName is a name of a variable that represents the name of a student\n",
    "# stdName is an identifier\n",
    "stdName = \"John Smith\"\n",
    "\n",
    "print(\"stdName is a variable. It is an identifier. Its value is: \", stdName, \"\\n\")\n",
    "print(\"Data type of stdName: \", type(stdName), '\\n')"
   ]
  },
  {
   "cell_type": "code",
   "execution_count": null,
   "metadata": {},
   "outputs": [],
   "source": []
  },
  {
   "cell_type": "code",
   "execution_count": 66,
   "metadata": {},
   "outputs": [
    {
     "name": "stdout",
     "output_type": "stream",
     "text": [
      "x is y\n"
     ]
    }
   ],
   "source": [
    "x = 5\n",
    "y = 5\n",
    "\n",
    "isTrue = \"x is y\"\n",
    "isFalse = \"x is not y\"\n",
    "\n",
    "if(x is y):\n",
    "    print(isTrue)\n",
    "else:\n",
    "    print(isFalse)"
   ]
  },
  {
   "cell_type": "code",
   "execution_count": 11,
   "metadata": {},
   "outputs": [
    {
     "name": "stdout",
     "output_type": "stream",
     "text": [
      "x is not y\n"
     ]
    }
   ],
   "source": [
    "x = 5\n",
    "y = 8\n",
    "\n",
    "isTrue = \"x is y\"\n",
    "isFalse = \"x is not y\"\n",
    "\n",
    "if(x is y):\n",
    "    print(isTrue)\n",
    "else:\n",
    "    print(isFalse)"
   ]
  },
  {
   "cell_type": "code",
   "execution_count": 13,
   "metadata": {},
   "outputs": [
    {
     "name": "stdout",
     "output_type": "stream",
     "text": [
      "x is not y\n"
     ]
    }
   ],
   "source": [
    "x = 5\n",
    "y = 8\n",
    "\n",
    "isTrue = \"x is not y\"\n",
    "isFalse = \"x is y\"\n",
    "\n",
    "if(x is not y):\n",
    "    print(isTrue)\n",
    "else:\n",
    "    print(isFalse)"
   ]
  },
  {
   "cell_type": "code",
   "execution_count": 14,
   "metadata": {},
   "outputs": [
    {
     "name": "stdout",
     "output_type": "stream",
     "text": [
      "H in x\n"
     ]
    }
   ],
   "source": [
    "x = 'Hello World'\n",
    "\n",
    "if('H'in x):\n",
    "    print(\"H in x\")\n",
    "else:\n",
    "    print(\"H not in x\")\n"
   ]
  },
  {
   "cell_type": "code",
   "execution_count": 15,
   "metadata": {},
   "outputs": [
    {
     "name": "stdout",
     "output_type": "stream",
     "text": [
      "8 not in aList\n"
     ]
    }
   ],
   "source": [
    "aList = [1,2,3,4,5]\n",
    "\n",
    "if(8 not in aList):\n",
    "    print(\"8 not in aList\")\n",
    "else:\n",
    "    print(\"8 in aList\")"
   ]
  },
  {
   "cell_type": "code",
   "execution_count": 16,
   "metadata": {},
   "outputs": [
    {
     "data": {
      "text/plain": [
       "3"
      ]
     },
     "execution_count": 16,
     "metadata": {},
     "output_type": "execute_result"
    }
   ],
   "source": [
    "#This is a comment\n",
    "\n",
    "x = 3\n",
    "x"
   ]
  },
  {
   "cell_type": "code",
   "execution_count": 18,
   "metadata": {},
   "outputs": [
    {
     "name": "stdout",
     "output_type": "stream",
     "text": [
      "Hello, World!\n"
     ]
    }
   ],
   "source": [
    "# Print \"Hello, World!\" to console\n",
    "print(\"Hello, World!\")"
   ]
  },
  {
   "cell_type": "code",
   "execution_count": 19,
   "metadata": {},
   "outputs": [
    {
     "data": {
      "text/plain": [
       "3"
      ]
     },
     "execution_count": 19,
     "metadata": {},
     "output_type": "execute_result"
    }
   ],
   "source": [
    "# Inline comment\n",
    "\n",
    "x = 3 # This is an inline comment\n",
    "x"
   ]
  },
  {
   "cell_type": "code",
   "execution_count": 20,
   "metadata": {},
   "outputs": [
    {
     "data": {
      "text/plain": [
       "3"
      ]
     },
     "execution_count": 20,
     "metadata": {},
     "output_type": "execute_result"
    }
   ],
   "source": [
    "#This is a comment of multiple lines, also known as a block comment\n",
    "#Add another line of comment\n",
    "#another line\n",
    "#and another line\n",
    "\n",
    "x = 3\n",
    "x"
   ]
  },
  {
   "cell_type": "code",
   "execution_count": 21,
   "metadata": {},
   "outputs": [
    {
     "name": "stdout",
     "output_type": "stream",
     "text": [
      "Enter an interger value:100\n",
      "The user has entered this value:  100\n"
     ]
    }
   ],
   "source": [
    "# An example of using the input() function to read data from the console\n",
    "\n",
    "anIntValue = input(\"Enter an interger value:\")\n",
    "\n",
    "print(\"The user has entered this value: \", anIntValue)"
   ]
  },
  {
   "cell_type": "code",
   "execution_count": 23,
   "metadata": {},
   "outputs": [
    {
     "name": "stdout",
     "output_type": "stream",
     "text": [
      "Examples of using print() function \n",
      "\n",
      "This is the value of x:  15 \n",
      "\n",
      "This is the value of x:  15 ; This is the value of y:  25 . \n",
      "\n"
     ]
    }
   ],
   "source": [
    "# Examples of using the print() function to print data to the console\n",
    "\n",
    "print(\"Examples of using print() function\", \"\\n\")\n",
    "\n",
    "x = 15\n",
    "\n",
    "print(\"This is the value of x: \", x, \"\\n\")\n",
    "\n",
    "y = 25\n",
    "\n",
    "print(\"This is the value of x: \", x, \"; This is the value of y: \", y, \". \\n\")"
   ]
  },
  {
   "cell_type": "code",
   "execution_count": 24,
   "metadata": {},
   "outputs": [
    {
     "name": "stdout",
     "output_type": "stream",
     "text": [
      "studentLevel: Senior ; Priority to register: 1 \n",
      "\n"
     ]
    }
   ],
   "source": [
    "studentLevel = \"Senior\" # Level: freshman, sophomore, junior, senior\n",
    "\n",
    "if(studentLevel ==\"Senior\"):\n",
    "    priorityToRegister = 1\n",
    "elif(studentLevel ==\"Junior\"):\n",
    "    priorityToRegister = 2\n",
    "elif(studentLevel ==\"Sophomore\"):\n",
    "    priorityToRegister = 3\n",
    "elif(studentLevel ==\"Freshman\"):\n",
    "    priorityToRegister = 4\n",
    "else:\n",
    "    print(\"Invalid studentLevel!!!\")\n",
    "    \n",
    "print(\"studentLevel:\", studentLevel, \"; Priority to register:\", priorityToRegister, \"\\n\")"
   ]
  },
  {
   "cell_type": "code",
   "execution_count": 25,
   "metadata": {},
   "outputs": [
    {
     "name": "stdout",
     "output_type": "stream",
     "text": [
      "C\n",
      "C++\n",
      "Java\n",
      "Python\n",
      "Perl\n",
      "Ruby\n",
      "Scala\n"
     ]
    }
   ],
   "source": [
    "language = [\"C\", \"C++\", \"Java\", \"Python\", \"Perl\", \"Ruby\", \"Scala\"]\n",
    "\n",
    "for x in language:\n",
    "    print(x)"
   ]
  },
  {
   "cell_type": "code",
   "execution_count": 29,
   "metadata": {},
   "outputs": [
    {
     "name": "stdout",
     "output_type": "stream",
     "text": [
      "Great delicious ham\n",
      "No more spam please!\n",
      "Finally, I finished stuffing myself\n"
     ]
    }
   ],
   "source": [
    "edibles = [\"ham\",\"spam\",\"eggs\",\"nuts\"]\n",
    "\n",
    "for food in edibles:\n",
    "    if food == \"spam\":\n",
    "        print(\"No more spam please!\")\n",
    "        break\n",
    "    print(\"Great delicious \" + food)\n",
    "else:\n",
    "    print(\"I am so glad: No spam!\")\n",
    "    \n",
    "print(\"Finally, I finished stuffing myself\")"
   ]
  },
  {
   "cell_type": "code",
   "execution_count": 30,
   "metadata": {},
   "outputs": [
    {
     "name": "stdout",
     "output_type": "stream",
     "text": [
      "No break in FOR loop statements\n",
      "No break in FOR loop statements\n",
      "No break in FOR loop statements\n",
      "No break in FOR loop statements\n",
      "I am so glad: No spam!\n",
      "Finally, I finished stuffing myself\n"
     ]
    }
   ],
   "source": [
    "edibles = [\"ham\",\"spam\",\"eggs\",\"nuts\"]\n",
    "\n",
    "for food in edibles:\n",
    "        print(\"No break in FOR loop statements\")\n",
    "else:\n",
    "    print(\"I am so glad: No spam!\")\n",
    "    \n",
    "print(\"Finally, I finished stuffing myself\")"
   ]
  },
  {
   "cell_type": "code",
   "execution_count": 31,
   "metadata": {},
   "outputs": [
    {
     "name": "stdout",
     "output_type": "stream",
     "text": [
      "Great delicious ham\n",
      "No more spam please!\n",
      "Finally, I finished stuffing myself\n"
     ]
    }
   ],
   "source": [
    "edibles = [\"ham\",\"spam\",\"eggs\",\"nuts\"]\n",
    "spam = False\n",
    "\n",
    "for food in edibles:\n",
    "    if food == \"spam\":\n",
    "        spam = True\n",
    "        print(\"No more spam please!\")\n",
    "        break\n",
    "    print(\"Great delicious \" + food)\n",
    "\n",
    "if(not spam):\n",
    "    print(\"I am so glad: No spam!\")\n",
    "    \n",
    "print(\"Finally, I finished stuffing myself\")"
   ]
  },
  {
   "cell_type": "code",
   "execution_count": 32,
   "metadata": {},
   "outputs": [
    {
     "name": "stdout",
     "output_type": "stream",
     "text": [
      "Great delicious ham\n",
      "Great delicious eggs\n",
      "Great delicious nuts\n",
      "I am so glad: No spam!\n",
      "Finally, I finished stuffing myself\n"
     ]
    }
   ],
   "source": [
    "# NO spam\n",
    "\n",
    "edibles = [\"ham\",\"eggs\",\"nuts\"]\n",
    "spam = False\n",
    "\n",
    "for food in edibles:\n",
    "    if food == \"spam\":\n",
    "        spam = True\n",
    "        print(\"No more spam please!\")\n",
    "        break\n",
    "    print(\"Great delicious \" + food)\n",
    "\n",
    "if(not spam):\n",
    "    print(\"I am so glad: No spam!\")\n",
    "    \n",
    "print(\"Finally, I finished stuffing myself\")"
   ]
  },
  {
   "cell_type": "code",
   "execution_count": 33,
   "metadata": {},
   "outputs": [
    {
     "name": "stdout",
     "output_type": "stream",
     "text": [
      "Data type of x:  <class 'int'> \n",
      "\n",
      "Data type of y:  <class 'int'> \n",
      "\n"
     ]
    }
   ],
   "source": [
    "x = 3\n",
    "y = x\n",
    "\n",
    "print(\"Data type of x: \", type(x), '\\n')\n",
    "print(\"Data type of y: \", type(y), '\\n')"
   ]
  },
  {
   "cell_type": "code",
   "execution_count": 34,
   "metadata": {},
   "outputs": [
    {
     "name": "stdout",
     "output_type": "stream",
     "text": [
      "Data type of x:  <class 'float'> \n",
      "\n",
      "Data type of y:  <class 'float'> \n",
      "\n"
     ]
    }
   ],
   "source": [
    "x = 3.5\n",
    "\n",
    "y = x\n",
    "\n",
    "print(\"Data type of x: \", type(x), '\\n')\n",
    "print(\"Data type of y: \", type(y), '\\n')"
   ]
  },
  {
   "cell_type": "code",
   "execution_count": 35,
   "metadata": {},
   "outputs": [
    {
     "name": "stdout",
     "output_type": "stream",
     "text": [
      "aComplex is a complex number:  (5+3j) \n",
      "\n",
      "Data type of aComplex:  <class 'complex'> \n",
      "\n"
     ]
    }
   ],
   "source": [
    "x = 5\n",
    "y = 3\n",
    "\n",
    "aComplex = complex(5,3)\n",
    "\n",
    "print(\"aComplex is a complex number: \", aComplex, \"\\n\")\n",
    "print(\"Data type of aComplex: \", type(aComplex), '\\n')"
   ]
  },
  {
   "cell_type": "code",
   "execution_count": 36,
   "metadata": {},
   "outputs": [
    {
     "name": "stdout",
     "output_type": "stream",
     "text": [
      "boolVar is a boolean variable:  True \n",
      "\n",
      "Data type of boolVar:  <class 'bool'> \n",
      "\n"
     ]
    }
   ],
   "source": [
    "boolVar = True\n",
    "\n",
    "print(\"boolVar is a boolean variable: \", boolVar, \"\\n\")\n",
    "print(\"Data type of boolVar: \", type(boolVar), '\\n')"
   ]
  },
  {
   "cell_type": "code",
   "execution_count": 39,
   "metadata": {},
   "outputs": [
    {
     "name": "stdout",
     "output_type": "stream",
     "text": [
      "boolVar is a boolean variable:  5\n",
      "Data type of boolVar:  <class 'int'> \n",
      "\n"
     ]
    }
   ],
   "source": [
    "boolVar = 5\n",
    "\n",
    "if(boolVar):\n",
    "    print(\"boolVar is a boolean variable: \", boolVar)\n",
    "    print(\"Data type of boolVar: \", type(boolVar), '\\n')"
   ]
  },
  {
   "cell_type": "code",
   "execution_count": 38,
   "metadata": {},
   "outputs": [
    {
     "name": "stdout",
     "output_type": "stream",
     "text": [
      "boolVar is a boolean variable:  False \n",
      "\n",
      "Data type of boolVar:  <class 'bool'> \n",
      "\n"
     ]
    }
   ],
   "source": [
    "boolVar = False\n",
    "\n",
    "print(\"boolVar is a boolean variable: \", boolVar, \"\\n\")\n",
    "print(\"Data type of boolVar: \", type(boolVar), '\\n')\n"
   ]
  },
  {
   "cell_type": "code",
   "execution_count": 43,
   "metadata": {},
   "outputs": [],
   "source": [
    "boolVar = 0\n",
    "\n",
    "if(boolVar):\n",
    "    print(\"Data type of boolVar: \", type(boolVar), '\\n')\n",
    "    \n",
    "#Nothing should be printed"
   ]
  },
  {
   "cell_type": "code",
   "execution_count": 44,
   "metadata": {},
   "outputs": [
    {
     "name": "stdout",
     "output_type": "stream",
     "text": [
      "aChar is a String variable, NOT a Character variable:  a \n",
      "\n",
      "Data type of aChar:  <class 'str'> \n",
      "\n"
     ]
    }
   ],
   "source": [
    "aChar = 'a'\n",
    "\n",
    "print(\"aChar is a String variable, NOT a Character variable: \", aChar, \"\\n\")\n",
    "print(\"Data type of aChar: \", type(aChar), '\\n')"
   ]
  },
  {
   "cell_type": "code",
   "execution_count": 45,
   "metadata": {},
   "outputs": [
    {
     "name": "stdout",
     "output_type": "stream",
     "text": [
      " 3.561e+02\n"
     ]
    }
   ],
   "source": [
    "print(\"%10.3e\"% (356.08977))"
   ]
  },
  {
   "cell_type": "code",
   "execution_count": 46,
   "metadata": {},
   "outputs": [
    {
     "name": "stdout",
     "output_type": "stream",
     "text": [
      " 3.561E+02\n"
     ]
    }
   ],
   "source": [
    "print(\"%10.3E\"% (356.08977))"
   ]
  },
  {
   "cell_type": "code",
   "execution_count": 47,
   "metadata": {},
   "outputs": [
    {
     "name": "stdout",
     "output_type": "stream",
     "text": [
      "        31\n"
     ]
    }
   ],
   "source": [
    "print(\"%10o\"% (25))"
   ]
  },
  {
   "cell_type": "code",
   "execution_count": 48,
   "metadata": {},
   "outputs": [
    {
     "name": "stdout",
     "output_type": "stream",
     "text": [
      "     00031\n"
     ]
    }
   ],
   "source": [
    "print(\"%10.5o\"% (25))"
   ]
  },
  {
   "cell_type": "code",
   "execution_count": 51,
   "metadata": {},
   "outputs": [
    {
     "name": "stdout",
     "output_type": "stream",
     "text": [
      "   2f\n"
     ]
    }
   ],
   "source": [
    "print(\"%5x\"% (47))"
   ]
  },
  {
   "cell_type": "code",
   "execution_count": 52,
   "metadata": {},
   "outputs": [
    {
     "name": "stdout",
     "output_type": "stream",
     "text": [
      " 002F\n"
     ]
    }
   ],
   "source": [
    "print(\"%5.4X\"% (47))"
   ]
  },
  {
   "cell_type": "code",
   "execution_count": 53,
   "metadata": {},
   "outputs": [
    {
     "name": "stdout",
     "output_type": "stream",
     "text": [
      "Only one percentage sign: % \n"
     ]
    }
   ],
   "source": [
    "print(\"Only one percentage sign: %% \" % ())"
   ]
  },
  {
   "cell_type": "code",
   "execution_count": 54,
   "metadata": {},
   "outputs": [
    {
     "data": {
      "text/plain": [
       "'Art:   453, Price:    59.06'"
      ]
     },
     "execution_count": 54,
     "metadata": {},
     "output_type": "execute_result"
    }
   ],
   "source": [
    "# IMPORTANT NOTES FOR USING STRING METHOD FORMAT:\n",
    "# --) WE DONT USE print() method\n",
    "# --) WE USE THE .format() method of the class String to format the output\n",
    "\n",
    "\"Art: {a:5d}, Price: {p:8.2f}\".format(a=453, p=59.058)"
   ]
  },
  {
   "cell_type": "code",
   "execution_count": 56,
   "metadata": {},
   "outputs": [
    {
     "data": {
      "text/plain": [
       "'Art:  4534, Price:    59.06'"
      ]
     },
     "execution_count": 56,
     "metadata": {},
     "output_type": "execute_result"
    }
   ],
   "source": [
    "# Let's run the example again\n",
    "# Let's pay attention to how the keyword arguments are used to format the output: a = 4534\n",
    "\n",
    "\n",
    "\"Art: {a:5d}, Price: {p:8.2f}\".format(a=4534, p=59.058)"
   ]
  },
  {
   "cell_type": "code",
   "execution_count": 57,
   "metadata": {},
   "outputs": [
    {
     "data": {
      "text/plain": [
       "'Spam & Eggs:           6.99'"
      ]
     },
     "execution_count": 57,
     "metadata": {},
     "output_type": "execute_result"
    }
   ],
   "source": [
    "\"{0:<20s} {1:6.2f}\".format('Spam & Eggs:', 6.99)"
   ]
  },
  {
   "cell_type": "code",
   "execution_count": 58,
   "metadata": {},
   "outputs": [
    {
     "data": {
      "text/plain": [
       "'        Spam & Eggs:   6.99'"
      ]
     },
     "execution_count": 58,
     "metadata": {},
     "output_type": "execute_result"
    }
   ],
   "source": [
    "# Notice the change in justification/alignment\n",
    "\n",
    "\"{0:>20s} {1:6.2f}\".format('Spam & Eggs:', 6.99)"
   ]
  },
  {
   "cell_type": "code",
   "execution_count": 59,
   "metadata": {},
   "outputs": [
    {
     "data": {
      "text/plain": [
       "'Spam & Eggs:           6.99'"
      ]
     },
     "execution_count": 59,
     "metadata": {},
     "output_type": "execute_result"
    }
   ],
   "source": [
    "\"{0:20s} {1:6.2f}\".format('Spam & Eggs:', 6.99)"
   ]
  },
  {
   "cell_type": "code",
   "execution_count": 60,
   "metadata": {},
   "outputs": [
    {
     "data": {
      "text/plain": [
       "'First argument: 47, second one: 11'"
      ]
     },
     "execution_count": 60,
     "metadata": {},
     "output_type": "execute_result"
    }
   ],
   "source": [
    "\"First argument: {0}, second one: {1}\".format(47,11)"
   ]
  },
  {
   "cell_type": "code",
   "execution_count": 61,
   "metadata": {},
   "outputs": [
    {
     "data": {
      "text/plain": [
       "'Second argument: 11, first one: 47'"
      ]
     },
     "execution_count": 61,
     "metadata": {},
     "output_type": "execute_result"
    }
   ],
   "source": [
    "\"Second argument: {1}, first one: {0}\".format(47,11)"
   ]
  },
  {
   "cell_type": "code",
   "execution_count": 62,
   "metadata": {},
   "outputs": [
    {
     "data": {
      "text/plain": [
       "'Second argument:  11, first one:   47.42'"
      ]
     },
     "execution_count": 62,
     "metadata": {},
     "output_type": "execute_result"
    }
   ],
   "source": [
    "\"Second argument: {1:3d}, first one: {0:7.2f}\".format(47.42,11)"
   ]
  },
  {
   "cell_type": "code",
   "execution_count": 63,
   "metadata": {},
   "outputs": [
    {
     "data": {
      "text/plain": [
       "'First argument: 47, second one: 11'"
      ]
     },
     "execution_count": 63,
     "metadata": {},
     "output_type": "execute_result"
    }
   ],
   "source": [
    "\"First argument: {}, second one: {}\".format(47,11)"
   ]
  },
  {
   "cell_type": "code",
   "execution_count": 64,
   "metadata": {},
   "outputs": [
    {
     "data": {
      "text/plain": [
       "'various precisions:   1.41 or  1.415'"
      ]
     },
     "execution_count": 64,
     "metadata": {},
     "output_type": "execute_result"
    }
   ],
   "source": [
    "\"various precisions: {0:6.2f} or {0:6.3f}\".format(1.4148)"
   ]
  },
  {
   "cell_type": "code",
   "execution_count": null,
   "metadata": {},
   "outputs": [],
   "source": []
  }
 ],
 "metadata": {
  "kernelspec": {
   "display_name": "Python 3",
   "language": "python",
   "name": "python3"
  },
  "language_info": {
   "codemirror_mode": {
    "name": "ipython",
    "version": 3
   },
   "file_extension": ".py",
   "mimetype": "text/x-python",
   "name": "python",
   "nbconvert_exporter": "python",
   "pygments_lexer": "ipython3",
   "version": "3.8.3"
  }
 },
 "nbformat": 4,
 "nbformat_minor": 2
}
